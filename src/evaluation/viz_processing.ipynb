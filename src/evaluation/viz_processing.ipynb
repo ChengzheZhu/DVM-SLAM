{
 "cells": [
  {
   "cell_type": "code",
   "execution_count": 2,
   "metadata": {},
   "outputs": [
    {
     "name": "stderr",
     "output_type": "stream",
     "text": [
      "/tmp/ipykernel_4594/4085804303.py:24: DeprecationWarning: \n",
      "Importing from 'rosbags.typesys.types' is deprecated.\n",
      "Use a specific type store instead, for example:\n",
      "from rosbags.typesys.stores.ros2_foxy import std_msgs__msg__Header\n",
      "\n",
      "  from rosbags.typesys.types import sensor_msgs__msg__CompressedImage, sensor_msgs__msg__CameraInfo, tf2_msgs__msg__TFMessage\n"
     ]
    }
   ],
   "source": [
    "from evo.tools import log\n",
    "log.configure_logging()\n",
    "from evo.tools import plot\n",
    "from evo.tools.plot import PlotMode\n",
    "from evo.core.metrics import PoseRelation\n",
    "from evo.core.units import Unit\n",
    "from evo.tools.settings import SETTINGS\n",
    "from rclpy.serialization import deserialize_message\n",
    "from visualization_msgs.msg import MarkerArray, Marker\n",
    "from tf2_msgs.msg import TFMessage\n",
    "from sensor_msgs.msg import PointCloud2\n",
    "from evo.tools import file_interface\n",
    "from rosbags.rosbag2 import Reader as Rosbag2Reader\n",
    "from rosbags.serde import deserialize_cdr\n",
    "import math\n",
    "import numpy as np\n",
    "from scipy.spatial.transform import Rotation\n",
    "from pathlib import Path\n",
    "import os\n",
    "from rosbags.typesys import get_types_from_idl, get_types_from_msg, register_types\n",
    "import copy\n",
    "from rosbags.rosbag2 import Writer as Rosbag2Writer\n",
    "from rclpy.serialization import serialize_message\n",
    "from rosbags.typesys.types import sensor_msgs__msg__CompressedImage, sensor_msgs__msg__CameraInfo, tf2_msgs__msg__TFMessage\n",
    "from cv_bridge import CvBridge\n",
    "import cv2\n",
    "from sensor_msgs.msg import CameraInfo\n",
    "from geometry_msgs.msg import TransformStamped\n",
    "from rosbags.serde import serialize_cdr"
   ]
  },
  {
   "cell_type": "code",
   "execution_count": 29,
   "metadata": {},
   "outputs": [
    {
     "name": "stderr",
     "output_type": "stream",
     "text": [
      "/tmp/ipykernel_4594/2991346701.py:27: DeprecationWarning: Writer.add_connection should be called with typestore or msgdef/rihs01 pair.\n",
      "  new_connections[connection] = writer.add_connection(connection.topic, connection.msgtype)\n",
      "/tmp/ipykernel_4594/2991346701.py:44: DeprecationWarning: Global serialization/deserialization functions have been replaced with\n",
      "explicit typestores.\n",
      "\n",
      "If you are deserializing messages from an AnyReader instance, simply\n",
      "use its `.deserialize(data, typename)` method.\n",
      "\n",
      "Otherwise instantiate a type store and use its methods:\n",
      "\n",
      "from rosbags.typesys import Stores, get_typestore\n",
      "\n",
      "typestore = get_typestore(Stores.ROS2_FOXY)\n",
      "typestore.deserialize_cdr(data, typename)\n",
      "  writer.write(new_connections[[c for c in reader.connections if c.topic==\"/tf\"][0]], timestamp, serialize_cdr(tf_msg, tf2_msgs__msg__TFMessage.__msgtype__))\n"
     ]
    }
   ],
   "source": [
    "type_converter = {\n",
    "    \"visualization_msgs/msg/MarkerArray\": MarkerArray,\n",
    "    \"visualization_msgs/msg/Marker\": Marker,\n",
    "    \"sensor_msgs/msg/PointCloud2\": PointCloud2\n",
    "}\n",
    "\n",
    "bag_name = \"/home/joshuabird/Desktop/apr13_lab_dataset_processed\"\n",
    "agent_ids=[1,2,3]\n",
    "\n",
    "# if directory exists, remove it\n",
    "if os.path.exists(f\"{bag_name}_viz_processed\"):\n",
    "    os.system(f\"rm -r {bag_name}_viz_processed\")\n",
    "\n",
    "with Rosbag2Reader(bag_name) as reader:\n",
    "    with Rosbag2Writer(f\"{bag_name}_viz_processed\") as writer:\n",
    "        # Read visuzalization data\n",
    "        robot_names = [f\"robot{agent_id}\" for agent_id in agent_ids]\n",
    "        topics = [f'/{robot_name}/all_points' for robot_name in robot_names] + \\\n",
    "                [f'/{robot_name}/kf_markers' for robot_name in robot_names] + \\\n",
    "                [f'/{robot_name}/camera_pose_marker' for robot_name in robot_names] + \\\n",
    "                [f'/{robot_name}/tracked_points' for robot_name in robot_names] + \\\n",
    "                [\"/tf\"]\n",
    "        \n",
    "        new_connections = {}\n",
    "        for connection in reader.connections:\n",
    "            if connection.topic in topics:\n",
    "                new_connections[connection] = writer.add_connection(connection.topic, connection.msgtype)\n",
    "\n",
    "        # create a static transform to \"world\" frame that rotates around x axis by -15 degrees\n",
    "        transform = TransformStamped()\n",
    "        transform.header.frame_id = \"world_rotated\"\n",
    "        transform.child_frame_id = \"world\"\n",
    "        transform.transform.rotation.x = np.sin(-18/2 * np.pi/180)\n",
    "        transform.transform.rotation.y = 0\n",
    "        transform.transform.rotation.z = 0\n",
    "        transform.transform.rotation.w = np.cos(-18/2 * np.pi/180)\n",
    "        tf_msg = TFMessage()\n",
    "        tf_msg.transforms.append(transform)\n",
    "                \n",
    "        sent_static = False\n",
    "        connections = [c for c in reader.connections if c.topic in topics]\n",
    "        for connection, timestamp, rawdata in reader.messages(connections=connections):\n",
    "            if not sent_static:\n",
    "                writer.write(new_connections[[c for c in reader.connections if c.topic==\"/tf\"][0]], timestamp, serialize_cdr(tf_msg, tf2_msgs__msg__TFMessage.__msgtype__))\n",
    "                sent_static = True\n",
    "\n",
    "            if connection.topic in [f'/{robot_name}/kf_markers' for robot_name in robot_names]:\n",
    "                type_def = type_converter[connection.msgtype]\n",
    "                data = deserialize_message(rawdata, type_def)\n",
    "\n",
    "                for marker in data.markers:\n",
    "                    scale = 1.\n",
    "\n",
    "                    if marker.ns == \"keyFrameWireframes\":\n",
    "\n",
    "                        marker.scale.x *= scale * 1.8\n",
    "                        marker.scale.y *= scale * 1.8\n",
    "                        marker.scale.z *= scale * 1.8\n",
    "\n",
    "                        for point in marker.points:\n",
    "                            point.x *= scale\n",
    "                            point.y *= scale\n",
    "                            point.z *= scale\n",
    "\n",
    "                        if marker.color.r == 0.5:\n",
    "                            marker.color.r = 255/255\n",
    "                            marker.color.g = 72/255\n",
    "                            marker.color.b = 72/255\n",
    "                            marker.color.a = 1.\n",
    "                        if marker.color.g == 0.5:\n",
    "                            marker.color.r = 72/255\n",
    "                            marker.color.g = 230/255\n",
    "                            marker.color.b = 72/255\n",
    "                            marker.color.a = 1.\n",
    "                        \n",
    "                        # marker.color.r = 72/255\n",
    "                        # marker.color.g = 230/255\n",
    "                        # marker.color.b = 72/255\n",
    "                        # marker.color.a = 1.\n",
    "\n",
    "                        # if connection.topic.split(\"/\")[1] == \"robot1\":\n",
    "                        #     marker.color.r = 255/255\n",
    "                        #     marker.color.g = 72/255\n",
    "                        #     marker.color.b = 72/255\n",
    "                        #     marker.color.a = 1.\n",
    "\n",
    "                    if marker.ns == \"connectedKeyFrameLines\":\n",
    "                        marker.color.r = 0.\n",
    "                        marker.color.g = 0.\n",
    "                        marker.color.b = 1.\n",
    "                        marker.color.a = .5\n",
    "\n",
    "                        marker.scale.x *= scale\n",
    "                        marker.scale.y *= scale\n",
    "                        marker.scale.z *= scale\n",
    "\n",
    "\n",
    "                writer.write(new_connections[connection], timestamp, serialize_message(data))\n",
    "            else:\n",
    "                writer.write(new_connections[connection], timestamp, rawdata)\n"
   ]
  },
  {
   "cell_type": "code",
   "execution_count": 4,
   "metadata": {},
   "outputs": [
    {
     "data": {
      "text/plain": [
       "Connection(id=2, topic='/tf', msgtype='tf2_msgs/msg/TFMessage', msgdef='geometry_msgs/TransformStamped[] transforms\\n================================================================================\\nMSG: geometry_msgs/TransformStamped\\nstd_msgs/Header header\\nstring child_frame_id\\ngeometry_msgs/Transform transform\\n================================================================================\\nMSG: std_msgs/Header\\nbuiltin_interfaces/Time stamp\\nstring frame_id\\n================================================================================\\nMSG: builtin_interfaces/Time\\nint32 sec\\nuint32 nanosec\\n================================================================================\\nMSG: geometry_msgs/Transform\\ngeometry_msgs/Vector3 translation\\ngeometry_msgs/Quaternion rotation\\n================================================================================\\nMSG: geometry_msgs/Vector3\\nfloat64 x\\nfloat64 y\\nfloat64 z\\n================================================================================\\nMSG: geometry_msgs/Quaternion\\nfloat64 x\\nfloat64 y\\nfloat64 z\\nfloat64 w\\n', digest='RIHS01_e369d0f05a23ae52508854b66f6aa0437f3449d652e8cbf22d5abe85d020f087', msgcount=0, ext=ConnectionExtRosbag2(serialization_format='cdr', offered_qos_profiles=''), owner=<rosbags.rosbag2.writer.Writer object at 0xffff4875b490>)"
      ]
     },
     "execution_count": 4,
     "metadata": {},
     "output_type": "execute_result"
    }
   ],
   "source": [
    "new_connections[[c for c in reader.connections if c.topic==\"/tf\"][0]]"
   ]
  },
  {
   "cell_type": "code",
   "execution_count": null,
   "metadata": {},
   "outputs": [],
   "source": []
  }
 ],
 "metadata": {
  "kernelspec": {
   "display_name": "Python 3",
   "language": "python",
   "name": "python3"
  },
  "language_info": {
   "codemirror_mode": {
    "name": "ipython",
    "version": 3
   },
   "file_extension": ".py",
   "mimetype": "text/x-python",
   "name": "python",
   "nbconvert_exporter": "python",
   "pygments_lexer": "ipython3",
   "version": "3.10.12"
  }
 },
 "nbformat": 4,
 "nbformat_minor": 2
}
