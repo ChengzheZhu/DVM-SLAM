{
    "cells": [
        {
            "cell_type": "code",
            "execution_count": 1,
            "metadata": {},
            "outputs": [
                {
                    "name": "stdout",
                    "output_type": "stream",
                    "text": [
                        "Found existing installation: evo 1.26.1\n",
                        "Uninstalling evo-1.26.1:\n",
                        "  Successfully uninstalled evo-1.26.1\n",
                        "Defaulting to user installation because normal site-packages is not writeable\n",
                        "Obtaining file:///home/joshuabird/Documents/multi-agent-evo\n",
                        "  Preparing metadata (setup.py) ... \u001b[?25ldone\n",
                        "\u001b[?25hRequirement already satisfied: numpy>=1.18.5 in /home/joshuabird/.local/lib/python3.10/site-packages (from evo==1.26.1) (1.26.1)\n",
                        "Requirement already satisfied: matplotlib in /usr/lib/python3/dist-packages (from evo==1.26.1) (3.5.1)\n",
                        "Requirement already satisfied: scipy>=1.2 in /usr/lib/python3/dist-packages (from evo==1.26.1) (1.8.0)\n",
                        "Requirement already satisfied: pandas in /home/joshuabird/.local/lib/python3.10/site-packages (from evo==1.26.1) (2.1.1)\n",
                        "Requirement already satisfied: numexpr>=2.7.3 in /home/joshuabird/.local/lib/python3.10/site-packages (from evo==1.26.1) (2.9.0)\n",
                        "Requirement already satisfied: seaborn>=0.9 in /home/joshuabird/.local/lib/python3.10/site-packages (from evo==1.26.1) (0.13.2)\n",
                        "Requirement already satisfied: natsort in /home/joshuabird/.local/lib/python3.10/site-packages (from evo==1.26.1) (8.4.0)\n",
                        "Requirement already satisfied: argcomplete in /usr/lib/python3/dist-packages (from evo==1.26.1) (1.8.1)\n",
                        "Requirement already satisfied: colorama>=0.3 in /usr/lib/python3/dist-packages (from evo==1.26.1) (0.4.4)\n",
                        "Requirement already satisfied: pygments in /usr/lib/python3/dist-packages (from evo==1.26.1) (2.11.2)\n",
                        "Requirement already satisfied: pyyaml in /usr/lib/python3/dist-packages (from evo==1.26.1) (5.4.1)\n",
                        "Requirement already satisfied: pillow in /usr/lib/python3/dist-packages (from evo==1.26.1) (9.0.1)\n",
                        "Requirement already satisfied: rosbags>=0.9.10 in /home/joshuabird/.local/lib/python3.10/site-packages (from evo==1.26.1) (0.9.19)\n",
                        "Requirement already satisfied: networkx in /home/joshuabird/.local/lib/python3.10/site-packages (from evo==1.26.1) (3.2.1)\n",
                        "Requirement already satisfied: lz4 in /home/joshuabird/.local/lib/python3.10/site-packages (from rosbags>=0.9.10->evo==1.26.1) (4.3.3)\n",
                        "Requirement already satisfied: ruamel.yaml in /home/joshuabird/.local/lib/python3.10/site-packages (from rosbags>=0.9.10->evo==1.26.1) (0.18.6)\n",
                        "Requirement already satisfied: zstandard in /home/joshuabird/.local/lib/python3.10/site-packages (from rosbags>=0.9.10->evo==1.26.1) (0.22.0)\n",
                        "Requirement already satisfied: python-dateutil>=2.8.2 in /home/joshuabird/.local/lib/python3.10/site-packages (from pandas->evo==1.26.1) (2.8.2)\n",
                        "Requirement already satisfied: pytz>=2020.1 in /usr/lib/python3/dist-packages (from pandas->evo==1.26.1) (2022.1)\n",
                        "Requirement already satisfied: tzdata>=2022.1 in /home/joshuabird/.local/lib/python3.10/site-packages (from pandas->evo==1.26.1) (2023.3)\n",
                        "Requirement already satisfied: six>=1.5 in /usr/lib/python3/dist-packages (from python-dateutil>=2.8.2->pandas->evo==1.26.1) (1.16.0)\n",
                        "Requirement already satisfied: ruamel.yaml.clib>=0.2.7 in /home/joshuabird/.local/lib/python3.10/site-packages (from ruamel.yaml->rosbags>=0.9.10->evo==1.26.1) (0.2.8)\n",
                        "Installing collected packages: evo\n",
                        "  Running setup.py develop for evo\n",
                        "Successfully installed evo\n"
                    ]
                }
            ],
            "source": [
                "!pip3 uninstall evo -y\n",
                "!python3 -m pip install -e /home/joshuabird/Documents/multi-agent-evo"
            ]
        },
        {
            "cell_type": "code",
            "execution_count": 59,
            "metadata": {},
            "outputs": [],
            "source": [
                "from evo.tools import log\n",
                "log.configure_logging()\n",
                "from evo.tools import plot\n",
                "from evo.tools.plot import PlotMode\n",
                "from evo.core.metrics import PoseRelation\n",
                "from evo.core.units import Unit\n",
                "from evo.tools.settings import SETTINGS\n",
                "\n",
                "# temporarily override some package settings\n",
                "SETTINGS.plot_figsize = [6, 6]\n",
                "SETTINGS.plot_split = True\n",
                "SETTINGS.plot_usetex = False\n",
                "\n",
                "# magic plot configuration\n",
                "import matplotlib.pyplot as plt\n",
                "%matplotlib inline\n",
                "%matplotlib widget\n",
                "\n",
                "# interactive widgets configuration\n",
                "import ipywidgets\n",
                "\n",
                "check_opts_ape = {\"align\": False, \"correct_scale\": False, \"show_plot\": True}\n",
                "check_boxes_ape=[ipywidgets.Checkbox(description=desc, value=val) for desc, val in check_opts_ape.items()]\n",
                "check_opts_rpe = {\"align\": False, \"correct_scale\": False, \"all_pairs\": False, \"show_plot\": True}\n",
                "check_boxes_rpe=[ipywidgets.Checkbox(description=desc, value=val) for desc, val in check_opts_rpe.items()]\n",
                "delta_input = ipywidgets.FloatText(value=1.0, description='delta', disabled=False, color='black')\n",
                "delta_unit_selector=ipywidgets.Dropdown(\n",
                "    options={u.value: u for u in Unit if u is not Unit.seconds},\n",
                "    value=Unit.frames, description='delta_unit'\n",
                ")\n",
                "plotmode_selector=ipywidgets.Dropdown(\n",
                "    options={p.value: p for p in PlotMode},\n",
                "    value=PlotMode.xy, description='plot_mode'\n",
                ")\n",
                "pose_relation_selector=ipywidgets.Dropdown(\n",
                "    options={p.value: p for p in PoseRelation},\n",
                "    value=PoseRelation.translation_part, description='pose_relation'\n",
                ")\n",
                "\n",
                "agent_ids = [1,2,3]"
            ]
        },
        {
            "cell_type": "code",
            "execution_count": 60,
            "metadata": {},
            "outputs": [
                {
                    "name": "stdout",
                    "output_type": "stream",
                    "text": [
                        "[WARNING] geometry_msgs/PointStamped does not contain rotation, evo will use unit quaternion. Note that rotation metrics will be invalid and RPE will only be valid with point_distance metric.\n",
                        "[WARNING] geometry_msgs/PointStamped does not contain rotation, evo will use unit quaternion. Note that rotation metrics will be invalid and RPE will only be valid with point_distance metric.\n",
                        "[WARNING] geometry_msgs/PointStamped does not contain rotation, evo will use unit quaternion. Note that rotation metrics will be invalid and RPE will only be valid with point_distance metric.\n"
                    ]
                }
            ],
            "source": [
                "from evo.tools import file_interface\n",
                "from rosbags.rosbag2 import Reader as Rosbag2Reader\n",
                "from rosbags.serde import deserialize_cdr\n",
                "import math\n",
                "import numpy as np\n",
                "from scipy.spatial.transform import Rotation\n",
                "from pathlib import Path\n",
                "import os\n",
                "from rosbags.typesys import get_types_from_idl, get_types_from_msg, register_types\n",
                "import copy\n",
                "\n",
                "# Add custom types\n",
                "interfaces_dir = \"../interfaces/msg/\"\n",
                "for file in os.listdir(interfaces_dir):\n",
                "    msg_text = Path(interfaces_dir + file).read_text()\n",
                "    register_types(get_types_from_msg(msg_text, \"interfaces/msg/\"+file[:-4]))\n",
                "\n",
                "bag_name = \"/home/joshuabird/Desktop/Apr7-MH-trajectorya\"\n",
                "\n",
                "traj_ests = {}\n",
                "traj_refs = {}\n",
                "with Rosbag2Reader(bag_name) as reader:\n",
                "    # Read the trajectory and ground truth for each agent\n",
                "    for agent_id in agent_ids:\n",
                "        traj_est = file_interface.read_bag_trajectory(reader, f\"/robot{agent_id}/camera_pose\", transform_to_root_tf_frame_id=\"/world\", use_final_tf_state=True)\n",
                "        traj_ref = file_interface.read_bag_trajectory(reader, f\"/robot{agent_id}/ground_truth_pose\")\n",
                "\n",
                "        traj_est.timestamps += 0.17\n",
                "\n",
                "        traj_ests[agent_id] = traj_est\n",
                "        traj_refs[agent_id] = traj_ref"
            ]
        },
        {
            "cell_type": "code",
            "execution_count": 61,
            "metadata": {},
            "outputs": [],
            "source": [
                "from evo.core.trajectory import PosePath3DElement\n",
                "\n",
                "filter_func: PosePath3DElement = lambda element: element[\"coord_frame\"] == \"robot1/origin\"\n",
                "\n",
                "# Filter to only the time range where trajectories are merged\n",
                "for agent_id in agent_ids:\n",
                "    traj_ests[agent_id].filter(filter_func)\n",
                "\n",
                "# Trim them down to the shortest time range\n",
                "# max_start_time = max([min(traj_ests[agent_id].timestamps) for agent_id in agent_ids] + [min(traj_refs[agent_id].timestamps) for agent_id in agent_ids])\n",
                "# min_end_time = min([max(traj_ests[agent_id].timestamps) for agent_id in agent_ids] + [max(traj_refs[agent_id].timestamps) for agent_id in agent_ids])\n",
                "\n",
                "# for agent_id in agent_ids:\n",
                "#     traj_ests[agent_id].reduce_to_time_range(max_start_time, min_end_time)\n",
                "#     traj_refs[agent_id].reduce_to_time_range(max_start_time, min_end_time)"
            ]
        },
        {
            "cell_type": "code",
            "execution_count": 62,
            "metadata": {},
            "outputs": [
                {
                    "name": "stdout",
                    "output_type": "stream",
                    "text": [
                        "3619 poses, 17.055m path length, 181.200s duration\n",
                        "3058 poses, 79.241m path length, 183.710s duration\n",
                        "3002 poses, 15.367m path length, 150.150s duration\n",
                        "2428 poses, 72.737m path length, 149.610s duration\n",
                        "2620 poses, 26.578m path length, 131.100s duration\n",
                        "1858 poses, 126.892m path length, 132.256s duration\n"
                    ]
                }
            ],
            "source": [
                "for agent_id in agent_ids:\n",
                "    print(traj_ests[agent_id])\n",
                "    print(traj_refs[agent_id])"
            ]
        },
        {
            "cell_type": "code",
            "execution_count": 63,
            "metadata": {},
            "outputs": [
                {
                    "data": {
                        "text/plain": [
                            "[array([[ 0.33391169, -0.89987006, -0.28060091],\n",
                            "        [ 0.94173459,  0.30569379,  0.14031135],\n",
                            "        [-0.04048403, -0.31110318,  0.94951348]]),\n",
                            " array([ 4.80663452, -1.80990514,  1.0773241 ]),\n",
                            " 4.875148051082737]"
                        ]
                    },
                    "execution_count": 63,
                    "metadata": {},
                    "output_type": "execute_result"
                }
            ],
            "source": [
                "from evo.core import sync\n",
                "from evo.core.trajectory import align_multiple\n",
                "\n",
                "max_diff = 0.5\n",
                "\n",
                "for agent_id in agent_ids:\n",
                "    traj_refs[agent_id], traj_ests[agent_id] = sync.associate_trajectories(traj_refs[agent_id], traj_ests[agent_id], max_diff)\n",
                "    \n",
                "align_multiple(list(traj_ests.values()), list(traj_refs.values()), correct_scale=True)"
            ]
        },
        {
            "cell_type": "code",
            "execution_count": 64,
            "metadata": {},
            "outputs": [
                {
                    "name": "stdout",
                    "output_type": "stream",
                    "text": [
                        "3020 poses, 79.240m path length, 181.510s duration\n",
                        "3020 poses, 82.137m path length, 181.000s duration\n",
                        "\n",
                        "2428 poses, 72.737m path length, 149.610s duration\n",
                        "2428 poses, 74.477m path length, 149.450s duration\n",
                        "\n",
                        "1853 poses, 126.891m path length, 131.955s duration\n",
                        "1853 poses, 126.341m path length, 131.100s duration\n",
                        "\n"
                    ]
                }
            ],
            "source": [
                "for agent_id in agent_ids:\n",
                "    print(traj_refs[agent_id])\n",
                "    print(traj_ests[agent_id])\n",
                "    print()"
            ]
        },
        {
            "cell_type": "code",
            "execution_count": 65,
            "metadata": {},
            "outputs": [
                {
                    "data": {
                        "application/vnd.jupyter.widget-view+json": {
                            "model_id": "011037fe3e7d4c808f679aaa8561b655",
                            "version_major": 2,
                            "version_minor": 0
                        },
                        "text/plain": [
                            "interactive(children=(Dropdown(description='pose_relation', index=1, options={'full transformation': <PoseRela…"
                        ]
                    },
                    "metadata": {},
                    "output_type": "display_data"
                }
            ],
            "source": [
                "import evo.main_ape as main_ape\n",
                "import evo.common_ape_rpe as common\n",
                "\n",
                "count = 0\n",
                "\n",
                "def callback_ape(pose_relation, align, correct_scale, plot_mode, show_plot):\n",
                "    global results, count\n",
                "    est_name=\"APE Test #{}\".format(count)\n",
                "    \n",
                "    fig = plt.figure()\n",
                "    ax = plot.prepare_axis(fig, plot_mode)\n",
                "    \n",
                "    overall_min = np.inf\n",
                "    overall_max = -np.inf\n",
                "    \n",
                "    results = {}\n",
                "\n",
                "    for agent_id in agent_ids:\n",
                "        result = main_ape.ape(traj_refs[agent_id], traj_ests[agent_id], est_name=est_name,\n",
                "                              pose_relation=pose_relation, align=align, correct_scale=correct_scale)\n",
                "        results[agent_id] = result\n",
                "\n",
                "        if result.stats[\"min\"] < overall_min:\n",
                "            overall_min = result.stats[\"min\"]\n",
                "        if result.stats[\"max\"] > overall_max:\n",
                "            overall_max = result.stats[\"max\"]\n",
                "\n",
                "    for agent_id in agent_ids:\n",
                "        if show_plot:\n",
                "            result = results[agent_id]\n",
                "\n",
                "            plot.traj(ax, plot_mode, traj_refs[agent_id], style=\"--\", alpha=0.5)\n",
                "            plot.traj_colormap(\n",
                "                ax, result.trajectories[est_name], result.np_arrays[\"error_array\"], plot_mode,\n",
                "                min_map=overall_min, max_map=overall_max, color_bar_label=\"APE [m]\", show_color_bar=agent_id == agent_ids[-1])\n",
                "    count += 1\n",
                "    \n",
                "    \n",
                "    \n",
                "_ = ipywidgets.interact_manual(callback_ape, pose_relation=pose_relation_selector, plot_mode=plotmode_selector,\n",
                "                               **{c.description: c.value for c in check_boxes_ape})"
            ]
        },
        {
            "cell_type": "code",
            "execution_count": 66,
            "metadata": {},
            "outputs": [
                {
                    "data": {
                        "application/vnd.jupyter.widget-view+json": {
                            "model_id": "5d7a6ffc929b4237ab1dc2590f3e08f0",
                            "version_major": 2,
                            "version_minor": 0
                        },
                        "text/plain": [
                            "interactive(children=(Dropdown(description='pose_relation', index=1, options={'full transformation': <PoseRela…"
                        ]
                    },
                    "metadata": {},
                    "output_type": "display_data"
                }
            ],
            "source": [
                "import evo.main_ape as main_ape\n",
                "import evo.common_ape_rpe as common\n",
                "\n",
                "count = 0\n",
                "\n",
                "def callback_ape(pose_relation, align, correct_scale, show_plot):\n",
                "    global results, count\n",
                "    est_name=\"APE Test #{}\".format(count)\n",
                "    \n",
                "    fig, axs = plt.subplots(len(agent_ids), 2, sharex=False, sharey=True,gridspec_kw={'width_ratios': [5, 1]}, figsize=(10, 3*len(agent_ids)))\n",
                "    plt.subplots_adjust(hspace=0.1, wspace=0.02)\n",
                "    fig.suptitle(\"APE vs. Time\")\n",
                "\n",
                "    # share x axis along first columns\n",
                "    if len(agent_ids) > 1:\n",
                "        axs[0][0].get_shared_x_axes().join(*[axs[agent_id-agent_ids[0]][0] for agent_id in agent_ids])\n",
                "    \n",
                "    overall_min = np.inf\n",
                "    overall_max = -np.inf\n",
                "    \n",
                "    results = {}\n",
                "\n",
                "    for agent_id in agent_ids:\n",
                "        result = main_ape.ape(traj_refs[agent_id], traj_ests[agent_id], est_name=est_name,\n",
                "                              pose_relation=pose_relation, align=align, correct_scale=correct_scale)\n",
                "        results[agent_id] = result\n",
                "\n",
                "        if result.stats[\"min\"] < overall_min:\n",
                "            overall_min = result.stats[\"min\"]\n",
                "        if result.stats[\"max\"] > overall_max:\n",
                "            overall_max = result.stats[\"max\"]\n",
                "\n",
                "    for agent_id in agent_ids:\n",
                "        if show_plot:\n",
                "            result = results[agent_id]\n",
                "            if len(agent_ids) > 1:\n",
                "                ax_row = axs[agent_id-agent_ids[0]]\n",
                "            else:\n",
                "                ax_row = axs\n",
                "\n",
                "            plot.error_array(ax_row[0], result.np_arrays[\"error_array\"], x_array=result.np_arrays[\"seconds_from_start\"], color=None, xlabel=\"Time (s)\" if agent_id == agent_ids[-1] else None, ylabel=f\"Agent {agent_id}\\nAPE [m]\")\n",
                "            if agent_id != agent_ids[-1]:\n",
                "                ax_row[0].set_xticklabels([])\n",
                "\n",
                "            print(np.sqrt(np.mean(result.np_arrays[\"error_array\"]**2)))\n",
                "\n",
                "            ax_row[1].hist(result.np_arrays[\"error_array\"], bins=30, orientation=\"horizontal\", edgecolor='none')\n",
                "            ax_row[1].set_xticklabels([])\n",
                "\n",
                "\n",
                "    count += 1\n",
                "    \n",
                "    \n",
                "    \n",
                "_ = ipywidgets.interact_manual(callback_ape, pose_relation=pose_relation_selector,\n",
                "                               **{c.description: c.value for c in check_boxes_ape})"
            ]
        },
        {
            "cell_type": "code",
            "execution_count": 67,
            "metadata": {},
            "outputs": [
                {
                    "data": {
                        "application/vnd.jupyter.widget-view+json": {
                            "model_id": "cbac8c34c8a844728da529c925e7ad25",
                            "version_major": 2,
                            "version_minor": 0
                        },
                        "text/plain": [
                            "interactive(children=(Dropdown(description='pose_relation', index=1, options={'full transformation': <PoseRela…"
                        ]
                    },
                    "metadata": {},
                    "output_type": "display_data"
                }
            ],
            "source": [
                "import evo.main_rpe as main_rpe\n",
                "\n",
                "count = 0\n",
                "\n",
                "def callback_rpe(pose_relation, delta, delta_unit, all_pairs, align, correct_scale, plot_mode, show_plot):\n",
                "    global results, count\n",
                "    est_name=\"APE Test #{}\".format(count)\n",
                "    \n",
                "    fig = plt.figure()\n",
                "    ax = plot.prepare_axis(fig, plot_mode)\n",
                "    \n",
                "    overall_min = np.inf\n",
                "    overall_max = -np.inf\n",
                "    \n",
                "    results = {}\n",
                "\n",
                "    for agent_id in agent_ids:\n",
                "        result = main_rpe.rpe(traj_refs[agent_id], traj_ests[agent_id], est_name=est_name,\n",
                "                            pose_relation=pose_relation, delta=delta, delta_unit=delta_unit, \n",
                "                            all_pairs=all_pairs, align=align, correct_scale=correct_scale, \n",
                "                            support_loop=True)\n",
                "        results[agent_id] = result\n",
                "\n",
                "        if result.stats[\"min\"] < overall_min:\n",
                "            overall_min = result.stats[\"min\"]\n",
                "        if result.stats[\"max\"] > overall_max:\n",
                "            overall_max = result.stats[\"max\"]\n",
                "\n",
                "    for agent_id in agent_ids:\n",
                "        if show_plot:\n",
                "            result = results[agent_id]\n",
                "\n",
                "            plot.traj(ax, plot_mode, traj_refs[agent_id], style=\"--\", alpha=0.5)\n",
                "            plot.traj_colormap(\n",
                "                ax, result.trajectories[est_name], result.np_arrays[\"error_array\"], plot_mode,\n",
                "                min_map=overall_min, max_map=overall_max, color_bar_label=\"RPE [m]\", show_color_bar=agent_id == agent_ids[-1])\n",
                "    count += 1\n",
                "    \n",
                "    \n",
                "    \n",
                "_ = ipywidgets.interact_manual(callback_rpe, pose_relation=pose_relation_selector, plot_mode=plotmode_selector, \n",
                "                               delta=delta_input, delta_unit=delta_unit_selector, \n",
                "                               **{c.description: c.value for c in check_boxes_rpe})\n"
            ]
        },
        {
            "cell_type": "code",
            "execution_count": 68,
            "metadata": {},
            "outputs": [
                {
                    "name": "stdout",
                    "output_type": "stream",
                    "text": [
                        "Saved geometry_msgs/PoseStamped topic: /robot1/camera_pose\n",
                        "Saved geometry_msgs/PoseStamped topic: /robot1/ground_truth_pose\n",
                        "Saved geometry_msgs/PoseStamped topic: /robot2/camera_pose\n",
                        "Saved geometry_msgs/PoseStamped topic: /robot2/ground_truth_pose\n",
                        "Saved geometry_msgs/PoseStamped topic: /robot3/camera_pose\n",
                        "Saved geometry_msgs/PoseStamped topic: /robot3/ground_truth_pose\n"
                    ]
                }
            ],
            "source": [
                "from rosbags.rosbag2 import Writer as Rosbag2Writer\n",
                "from rclpy.serialization import serialize_message\n",
                "from rosbags.typesys.types import sensor_msgs__msg__CompressedImage, sensor_msgs__msg__CameraInfo, tf2_msgs__msg__TFMessage\n",
                "from cv_bridge import CvBridge\n",
                "import cv2\n",
                "from sensor_msgs.msg import CameraInfo\n",
                "from geometry_msgs.msg import TransformStamped\n",
                "\n",
                "\n",
                "with Rosbag2Writer(f\"{bag_name}_processed\") as writer:\n",
                "    for agent_id in agent_ids:\n",
                "        min_timestamp = np.min(traj_ests[agent_id].timestamps.tolist() + traj_ests[agent_id].timestamps.tolist())-1000\n",
                "        traj_ests[agent_id].timestamps -= min_timestamp\n",
                "        traj_refs[agent_id].timestamps -= min_timestamp\n",
                "\n",
                "        file_interface.write_bag_trajectory(writer, traj_ests[agent_id], f\"/robot{agent_id}/camera_pose\", frame_id=\"world\")\n",
                "        file_interface.write_bag_trajectory(writer, traj_refs[agent_id], f\"/robot{agent_id}/ground_truth_pose\", frame_id=\"world\")\n"
            ]
        },
        {
            "cell_type": "code",
            "execution_count": null,
            "metadata": {},
            "outputs": [],
            "source": []
        },
        {
            "cell_type": "code",
            "execution_count": null,
            "metadata": {},
            "outputs": [],
            "source": []
        },
        {
            "cell_type": "code",
            "execution_count": null,
            "metadata": {},
            "outputs": [],
            "source": []
        },
        {
            "cell_type": "code",
            "execution_count": null,
            "metadata": {},
            "outputs": [],
            "source": []
        },
        {
            "cell_type": "code",
            "execution_count": null,
            "metadata": {},
            "outputs": [],
            "source": []
        },
        {
            "cell_type": "code",
            "execution_count": null,
            "metadata": {},
            "outputs": [],
            "source": []
        },
        {
            "cell_type": "code",
            "execution_count": null,
            "metadata": {},
            "outputs": [],
            "source": []
        },
        {
            "cell_type": "code",
            "execution_count": null,
            "metadata": {},
            "outputs": [],
            "source": []
        },
        {
            "cell_type": "code",
            "execution_count": null,
            "metadata": {},
            "outputs": [],
            "source": []
        },
        {
            "cell_type": "code",
            "execution_count": null,
            "metadata": {},
            "outputs": [],
            "source": []
        }
    ],
    "metadata": {
        "kernelspec": {
            "display_name": "Python 3 (ipykernel)",
            "language": "python",
            "name": "python3"
        },
        "language_info": {
            "codemirror_mode": {
                "name": "ipython",
                "version": 3
            },
            "file_extension": ".py",
            "mimetype": "text/x-python",
            "name": "python",
            "nbconvert_exporter": "python",
            "pygments_lexer": "ipython3",
            "version": "3.10.12"
        }
    },
    "nbformat": 4,
    "nbformat_minor": 4
}
