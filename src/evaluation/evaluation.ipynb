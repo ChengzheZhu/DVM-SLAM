{
    "cells": [
        {
            "cell_type": "code",
            "execution_count": 7,
            "metadata": {},
            "outputs": [
                {
                    "name": "stdout",
                    "output_type": "stream",
                    "text": [
                        "Found existing installation: evo 1.26.1\n",
                        "Uninstalling evo-1.26.1:\n",
                        "  Successfully uninstalled evo-1.26.1\n",
                        "Defaulting to user installation because normal site-packages is not writeable\n",
                        "Obtaining file:///home/joshuabird/Documents/multi-agent-evo\n",
                        "  Preparing metadata (setup.py) ... \u001b[?25ldone\n",
                        "\u001b[?25hRequirement already satisfied: numpy>=1.18.5 in /home/joshuabird/.local/lib/python3.10/site-packages (from evo==1.26.1) (1.26.1)\n",
                        "Requirement already satisfied: matplotlib in /home/joshuabird/.local/lib/python3.10/site-packages (from evo==1.26.1) (3.8.4)\n",
                        "Requirement already satisfied: scipy>=1.2 in /home/joshuabird/.local/lib/python3.10/site-packages (from evo==1.26.1) (1.13.0)\n",
                        "Requirement already satisfied: pandas in /home/joshuabird/.local/lib/python3.10/site-packages (from evo==1.26.1) (2.1.1)\n",
                        "Requirement already satisfied: numexpr>=2.7.3 in /home/joshuabird/.local/lib/python3.10/site-packages (from evo==1.26.1) (2.9.0)\n",
                        "Requirement already satisfied: seaborn>=0.9 in /home/joshuabird/.local/lib/python3.10/site-packages (from evo==1.26.1) (0.13.2)\n",
                        "Requirement already satisfied: natsort in /home/joshuabird/.local/lib/python3.10/site-packages (from evo==1.26.1) (8.4.0)\n",
                        "Requirement already satisfied: argcomplete in /usr/lib/python3/dist-packages (from evo==1.26.1) (1.8.1)\n",
                        "Requirement already satisfied: colorama>=0.3 in /usr/lib/python3/dist-packages (from evo==1.26.1) (0.4.4)\n",
                        "Requirement already satisfied: pygments in /usr/lib/python3/dist-packages (from evo==1.26.1) (2.11.2)\n",
                        "Requirement already satisfied: pyyaml in /usr/lib/python3/dist-packages (from evo==1.26.1) (5.4.1)\n",
                        "Requirement already satisfied: pillow in /usr/lib/python3/dist-packages (from evo==1.26.1) (9.0.1)\n",
                        "Requirement already satisfied: rosbags>=0.9.10 in /home/joshuabird/.local/lib/python3.10/site-packages (from evo==1.26.1) (0.10.0)\n",
                        "Requirement already satisfied: networkx in /home/joshuabird/.local/lib/python3.10/site-packages (from evo==1.26.1) (3.2.1)\n",
                        "Requirement already satisfied: lz4 in /home/joshuabird/.local/lib/python3.10/site-packages (from rosbags>=0.9.10->evo==1.26.1) (4.3.3)\n",
                        "Requirement already satisfied: ruamel.yaml in /home/joshuabird/.local/lib/python3.10/site-packages (from rosbags>=0.9.10->evo==1.26.1) (0.18.6)\n",
                        "Requirement already satisfied: zstandard in /home/joshuabird/.local/lib/python3.10/site-packages (from rosbags>=0.9.10->evo==1.26.1) (0.22.0)\n",
                        "Requirement already satisfied: contourpy>=1.0.1 in /home/joshuabird/.local/lib/python3.10/site-packages (from matplotlib->evo==1.26.1) (1.2.1)\n",
                        "Requirement already satisfied: cycler>=0.10 in /home/joshuabird/.local/lib/python3.10/site-packages (from matplotlib->evo==1.26.1) (0.12.1)\n",
                        "Requirement already satisfied: fonttools>=4.22.0 in /home/joshuabird/.local/lib/python3.10/site-packages (from matplotlib->evo==1.26.1) (4.51.0)\n",
                        "Requirement already satisfied: kiwisolver>=1.3.1 in /home/joshuabird/.local/lib/python3.10/site-packages (from matplotlib->evo==1.26.1) (1.4.5)\n",
                        "Requirement already satisfied: packaging>=20.0 in /usr/lib/python3/dist-packages (from matplotlib->evo==1.26.1) (21.3)\n",
                        "Requirement already satisfied: pyparsing>=2.3.1 in /usr/lib/python3/dist-packages (from matplotlib->evo==1.26.1) (2.4.7)\n",
                        "Requirement already satisfied: python-dateutil>=2.7 in /home/joshuabird/.local/lib/python3.10/site-packages (from matplotlib->evo==1.26.1) (2.8.2)\n",
                        "Requirement already satisfied: pytz>=2020.1 in /usr/lib/python3/dist-packages (from pandas->evo==1.26.1) (2022.1)\n",
                        "Requirement already satisfied: tzdata>=2022.1 in /home/joshuabird/.local/lib/python3.10/site-packages (from pandas->evo==1.26.1) (2023.3)\n",
                        "Requirement already satisfied: six>=1.5 in /usr/lib/python3/dist-packages (from python-dateutil>=2.7->matplotlib->evo==1.26.1) (1.16.0)\n",
                        "Requirement already satisfied: ruamel.yaml.clib>=0.2.7 in /home/joshuabird/.local/lib/python3.10/site-packages (from ruamel.yaml->rosbags>=0.9.10->evo==1.26.1) (0.2.8)\n",
                        "Installing collected packages: evo\n",
                        "  Running setup.py develop for evo\n",
                        "Successfully installed evo\n"
                    ]
                }
            ],
            "source": [
                "!pip3 uninstall evo -y\n",
                "!python3 -m pip install -e /home/joshuabird/Documents/multi-agent-evo"
            ]
        },
        {
            "cell_type": "code",
            "execution_count": 8,
            "metadata": {},
            "outputs": [
                {
                    "name": "stdout",
                    "output_type": "stream",
                    "text": [
                        "Defaulting to user installation because normal site-packages is not writeable\n",
                        "Requirement already satisfied: palettable in /home/joshuabird/.local/lib/python3.10/site-packages (3.3.3)\n"
                    ]
                }
            ],
            "source": [
                "!pip3 install palettable"
            ]
        },
        {
            "cell_type": "code",
            "execution_count": 1,
            "metadata": {},
            "outputs": [],
            "source": [
                "from evo.tools import log\n",
                "log.configure_logging()\n",
                "from evo.tools import plot\n",
                "from evo.tools.plot import PlotMode\n",
                "from evo.core.metrics import PoseRelation\n",
                "from evo.core.units import Unit\n",
                "from evo.tools.settings import SETTINGS\n",
                "\n",
                "# temporarily override some package settings\n",
                "SETTINGS.plot_figsize = [6, 6]\n",
                "SETTINGS.plot_split = True\n",
                "SETTINGS.plot_usetex = False\n",
                "\n",
                "# magic plot configuration\n",
                "import matplotlib.pyplot as plt\n",
                "%matplotlib inline\n",
                "%matplotlib widget\n",
                "from palettable.cartocolors.qualitative import Prism_10 as colorscheme\n",
                "\n",
                "plt.style.use('default')\n",
                "plt.rcParams.update(\n",
                "    {\n",
                "        \"text.usetex\": True,\n",
                "        \"font.size\": 11,\n",
                "        \"font.family\": \"lmodern\",\n",
                "        \"legend.fontsize\": \"x-small\",\n",
                "        \"figure.figsize\": (15, 5),\n",
                "        \"axes.labelsize\": \"x-small\",\n",
                "        \"axes.titlesize\": \"x-small\",\n",
                "        \"xtick.labelsize\": \"xx-small\",\n",
                "        \"ytick.labelsize\": \"xx-small\",\n",
                "    }\n",
                ")\n",
                "\n",
                "# interactive widgets configuration\n",
                "import ipywidgets\n",
                "\n",
                "check_opts_ape = {\"align\": False, \"correct_scale\": False, \"show_plot\": True}\n",
                "check_boxes_ape=[ipywidgets.Checkbox(description=desc, value=val) for desc, val in check_opts_ape.items()]\n",
                "check_opts_rpe = {\"align\": False, \"correct_scale\": False, \"all_pairs\": False, \"show_plot\": True}\n",
                "check_boxes_rpe=[ipywidgets.Checkbox(description=desc, value=val) for desc, val in check_opts_rpe.items()]\n",
                "delta_input = ipywidgets.FloatText(value=1.0, description='delta', disabled=False, color='black')\n",
                "delta_unit_selector=ipywidgets.Dropdown(\n",
                "    options={u.value: u for u in Unit if u is not Unit.seconds},\n",
                "    value=Unit.frames, description='delta_unit'\n",
                ")\n",
                "plotmode_selector=ipywidgets.Dropdown(\n",
                "    options={p.value: p for p in PlotMode},\n",
                "    value=PlotMode.xy, description='plot_mode'\n",
                ")\n",
                "pose_relation_selector=ipywidgets.Dropdown(\n",
                "    options={p.value: p for p in PoseRelation},\n",
                "    value=PoseRelation.translation_part, description='pose_relation'\n",
                ")\n",
                "\n",
                "agent_ids = [1,2,3]"
            ]
        },
        {
            "cell_type": "code",
            "execution_count": 21,
            "metadata": {},
            "outputs": [
                {
                    "name": "stderr",
                    "output_type": "stream",
                    "text": [
                        "/tmp/ipykernel_4353/576526576.py:16: DeprecationWarning: Global type registration has been replaced with explicit typestores.\n",
                        "\n",
                        "Perform all type registration and subsequent serialization and\n",
                        "deserialization on typestore instances:\n",
                        "\n",
                        "from rosbags.typesys import Stores, get_typestore\n",
                        "\n",
                        "typestore = get_typestore(Stores.ROS2_FOXY)\n",
                        "typestore.register(types)\n",
                        "  register_types(get_types_from_msg(msg_text, \"interfaces/msg/\"+file[:-4]))\n"
                    ]
                }
            ],
            "source": [
                "from evo.tools import file_interface\n",
                "from rosbags.rosbag2 import Reader as Rosbag2Reader\n",
                "from rosbags.serde import deserialize_cdr\n",
                "import math\n",
                "import numpy as np\n",
                "from scipy.spatial.transform import Rotation\n",
                "from pathlib import Path\n",
                "import os\n",
                "from rosbags.typesys import get_types_from_idl, get_types_from_msg, register_types\n",
                "import copy\n",
                "\n",
                "# Add custom types\n",
                "interfaces_dir = \"../interfaces/msg/\"\n",
                "for file in os.listdir(interfaces_dir):\n",
                "    msg_text = Path(interfaces_dir + file).read_text()\n",
                "    register_types(get_types_from_msg(msg_text, \"interfaces/msg/\"+file[:-4]))\n",
                "\n",
                "bag_name = \"/home/joshuabird/Desktop/apr11_mh_trajectory_b\"\n",
                "\n",
                "traj_ests = {}\n",
                "traj_refs = {}\n",
                "with Rosbag2Reader(bag_name) as reader:\n",
                "    # Read the trajectory and ground truth for each agent\n",
                "    for agent_id in agent_ids:\n",
                "        traj_est = file_interface.read_bag_trajectory(reader, f\"/robot{agent_id}/camera_pose\", transform_to_root_tf_frame_id=\"/world\", use_final_tf_state=True)\n",
                "        traj_ref = file_interface.read_bag_trajectory(reader, f\"/robot{agent_id}/ground_truth_pose\")\n",
                "\n",
                "        # traj_est.timestamps += 0.17\n",
                "\n",
                "        traj_ests[agent_id] = traj_est\n",
                "        traj_refs[agent_id] = traj_ref"
            ]
        },
        {
            "cell_type": "code",
            "execution_count": 22,
            "metadata": {},
            "outputs": [],
            "source": [
                "from evo.core.trajectory import PosePath3DElement\n",
                "\n",
                "filter_func: PosePath3DElement = lambda element: element[\"coord_frame\"] == \"robot1/origin\"\n",
                "\n",
                "# Filter to only the time range where trajectories are merged\n",
                "for agent_id in agent_ids:\n",
                "    traj_ests[agent_id].filter(filter_func)\n",
                "\n",
                "# Trim them down to the shortest time range\n",
                "# max_start_time = max([min(traj_ests[agent_id].timestamps) for agent_id in agent_ids] + [min(traj_refs[agent_id].timestamps) for agent_id in agent_ids])\n",
                "# min_end_time = min([max(traj_ests[agent_id].timestamps) for agent_id in agent_ids] + [max(traj_refs[agent_id].timestamps) for agent_id in agent_ids])\n",
                "\n",
                "# for agent_id in agent_ids:\n",
                "#     traj_ests[agent_id].reduce_to_time_range(max_start_time, min_end_time)\n",
                "#     traj_refs[agent_id].reduce_to_time_range(max_start_time, min_end_time)\n",
                "\n",
                "\n",
                "# traj_ests[1].reduce_to_time_range(0, np.max(traj_ests[1].timestamps)-10)\n",
                "# traj_refs[1].reduce_to_time_range(0, np.max(traj_refs[1].timestamps)-10)"
            ]
        },
        {
            "cell_type": "code",
            "execution_count": 23,
            "metadata": {},
            "outputs": [
                {
                    "name": "stdout",
                    "output_type": "stream",
                    "text": [
                        "2666 poses, 89.445m path length, 133.754s duration\n",
                        "15885 poses, 146.692m path length, 137.150s duration\n",
                        "2681 poses, 80.384m path length, 135.054s duration\n",
                        "14811 poses, 141.455m path length, 140.392s duration\n",
                        "2603 poses, 78.674m path length, 130.655s duration\n",
                        "14575 poses, 135.324m path length, 137.383s duration\n"
                    ]
                }
            ],
            "source": [
                "for agent_id in agent_ids:\n",
                "    print(traj_ests[agent_id])\n",
                "    print(traj_refs[agent_id])"
            ]
        },
        {
            "cell_type": "code",
            "execution_count": 24,
            "metadata": {},
            "outputs": [
                {
                    "data": {
                        "text/plain": [
                            "[array([[-0.9864053 ,  0.14651767, -0.07441206],\n",
                            "        [-0.15247786, -0.98490186,  0.0819685 ],\n",
                            "        [-0.06127874,  0.09220035,  0.99385311]]),\n",
                            " array([ 1.363268  , -0.42670309,  1.51526656]),\n",
                            " 1.7103277395792622]"
                        ]
                    },
                    "execution_count": 24,
                    "metadata": {},
                    "output_type": "execute_result"
                }
            ],
            "source": [
                "from evo.core import sync\n",
                "from evo.core.trajectory import align_multiple\n",
                "\n",
                "max_diff = 0.05\n",
                "\n",
                "for agent_id in agent_ids:\n",
                "    traj_refs[agent_id], traj_ests[agent_id] = sync.associate_trajectories(traj_refs[agent_id], traj_ests[agent_id], max_diff)\n",
                "    \n",
                "align_multiple(list(traj_ests.values()), list(traj_refs.values()), correct_scale=True)"
            ]
        },
        {
            "cell_type": "code",
            "execution_count": 25,
            "metadata": {},
            "outputs": [
                {
                    "name": "stdout",
                    "output_type": "stream",
                    "text": [
                        "2625 poses, 145.697m path length, 133.758s duration\n",
                        "2625 poses, 152.241m path length, 133.754s duration\n",
                        "\n",
                        "2429 poses, 137.816m path length, 135.050s duration\n",
                        "2429 poses, 135.704m path length, 135.054s duration\n",
                        "\n",
                        "2395 poses, 128.832m path length, 130.650s duration\n",
                        "2395 poses, 133.716m path length, 130.655s duration\n",
                        "\n"
                    ]
                }
            ],
            "source": [
                "for agent_id in agent_ids:\n",
                "    print(traj_refs[agent_id])\n",
                "    print(traj_ests[agent_id])\n",
                "    print()"
            ]
        },
        {
            "cell_type": "code",
            "execution_count": 26,
            "metadata": {},
            "outputs": [
                {
                    "data": {
                        "application/vnd.jupyter.widget-view+json": {
                            "model_id": "04803f9309c94587bcfc4819b6704d5a",
                            "version_major": 2,
                            "version_minor": 0
                        },
                        "text/plain": [
                            "interactive(children=(Dropdown(description='pose_relation', index=1, options={'full transformation': <PoseRela…"
                        ]
                    },
                    "metadata": {},
                    "output_type": "display_data"
                }
            ],
            "source": [
                "import evo.main_ape as main_ape\n",
                "import evo.common_ape_rpe as common\n",
                "\n",
                "count = 0\n",
                "\n",
                "def callback_ape(pose_relation, align, correct_scale, plot_mode, show_plot):\n",
                "    global results, count\n",
                "    est_name=\"APE Test #{}\".format(count)\n",
                "    \n",
                "    fig = plt.figure(figsize=(6.7/2, 2.2))\n",
                "    ax = plot.prepare_axis(fig, plot_mode)\n",
                "    \n",
                "    overall_min = np.inf\n",
                "    overall_max = -np.inf\n",
                "    \n",
                "    results = {}\n",
                "\n",
                "    for agent_id in agent_ids:\n",
                "        result = main_ape.ape(traj_refs[agent_id], traj_ests[agent_id], est_name=est_name,\n",
                "                              pose_relation=pose_relation, align=align, correct_scale=correct_scale)\n",
                "        results[agent_id] = result\n",
                "\n",
                "        if result.stats[\"min\"] < overall_min:\n",
                "            overall_min = result.stats[\"min\"]\n",
                "        if result.stats[\"max\"] > overall_max:\n",
                "            overall_max = result.stats[\"max\"]\n",
                "\n",
                "    for agent_id in agent_ids:\n",
                "        if show_plot:\n",
                "            result = results[agent_id]\n",
                "\n",
                "            plot.traj(ax, plot_mode, traj_refs[agent_id], style=\":\", alpha=0.5)\n",
                "            plot.traj_colormap(\n",
                "                ax, result.trajectories[est_name], result.np_arrays[\"error_array\"], plot_mode,\n",
                "                min_map=overall_min, max_map=overall_max, color_bar_label=\"ATE [m]\", show_color_bar=agent_id == agent_ids[-1])\n",
                "            \n",
                "        # plt.legend([f\"Ground Truth\", f\"Estimate\"], loc=\"upper right\")\n",
                "    \n",
                "    plt.tight_layout()\n",
                "    ax.set_aspect(\"equal\")\n",
                "\n",
                "    # save as file\n",
                "    if show_plot:\n",
                "        fig.savefig(f'figures_output/{bag_name.split(\"/\")[-1]}_trajectory.pdf', bbox_inches='tight', dpi=300, pad_inches=0.01)\n",
                "        \n",
                "        \n",
                "\n",
                "    count += 1\n",
                "    \n",
                "    \n",
                "    \n",
                "_ = ipywidgets.interact_manual(callback_ape, pose_relation=pose_relation_selector, plot_mode=plotmode_selector,\n",
                "                               **{c.description: c.value for c in check_boxes_ape})"
            ]
        },
        {
            "cell_type": "code",
            "execution_count": 27,
            "metadata": {},
            "outputs": [
                {
                    "data": {
                        "application/vnd.jupyter.widget-view+json": {
                            "model_id": "a6e56cbdd1424bc2a3bc3ecad1937e46",
                            "version_major": 2,
                            "version_minor": 0
                        },
                        "text/plain": [
                            "interactive(children=(Dropdown(description='pose_relation', index=1, options={'full transformation': <PoseRela…"
                        ]
                    },
                    "metadata": {},
                    "output_type": "display_data"
                }
            ],
            "source": [
                "import evo.main_ape as main_ape\n",
                "import evo.common_ape_rpe as common\n",
                "\n",
                "count = 0\n",
                "\n",
                "def callback_ape(pose_relation, align, correct_scale, show_plot):\n",
                "    global results, count\n",
                "    est_name=\"APE Test #{}\".format(count)\n",
                "    \n",
                "    fig, axs = plt.subplots(len(agent_ids), 3, sharex=False, sharey=True, gridspec_kw={'width_ratios': [5, 1, 1]}, figsize=(6.7, 0.75*len(agent_ids)))\n",
                "    plt.subplots_adjust(hspace=0.1, wspace=0.02)\n",
                "\n",
                "    # share x axis along first columns\n",
                "    for i in range(len(agent_ids)-1):\n",
                "        axs[i][0].sharex(axs[i+1][0])\n",
                "    \n",
                "    overall_min = np.inf\n",
                "    overall_max = -np.inf\n",
                "    \n",
                "    results = {}\n",
                "\n",
                "    for agent_id in agent_ids:\n",
                "        result = main_ape.ape(traj_refs[agent_id], traj_ests[agent_id], est_name=est_name,\n",
                "                              pose_relation=pose_relation, align=align, correct_scale=correct_scale)\n",
                "        results[agent_id] = result\n",
                "\n",
                "        if result.stats[\"min\"] < overall_min:\n",
                "            overall_min = result.stats[\"min\"]\n",
                "        if result.stats[\"max\"] > overall_max:\n",
                "            overall_max = result.stats[\"max\"]\n",
                "\n",
                "    for agent_id in agent_ids:\n",
                "        if show_plot:\n",
                "            result = results[agent_id]\n",
                "            if len(agent_ids) > 1:\n",
                "                ax_row = axs[agent_id-agent_ids[0]]\n",
                "            else:\n",
                "                ax_row = axs\n",
                "\n",
                "            for ax in ax_row:\n",
                "                ax.set_prop_cycle('color', colorscheme.mpl_colors)\n",
                "\n",
                "            ax_row[0].grid(zorder=-10, alpha=0.5)\n",
                "            ax_row[1].grid(axis='y', zorder=-10, alpha=0.5)\n",
                "\n",
                "            plot.error_array(ax_row[0], result.np_arrays[\"error_array\"], x_array=result.np_arrays[\"seconds_from_start\"], color=None, xlabel=\"Time [s]\" if agent_id == agent_ids[-1] else None, ylabel=f\"Agent {agent_id}\\nATE [m]\", linewidth=0.75)\n",
                "            # if agent_id != agent_ids[-1]:\n",
                "            #     ax_row[0].set_xticklabels([])\n",
                "\n",
                "\n",
                "            ax_row[1].violinplot(result.np_arrays[\"error_array\"])\n",
                "            ax_row[1].set_xticks([])\n",
                "            \n",
                "            ax_row[2].set_axis_off()\n",
                "            text = []\n",
                "            text.append([\"RMSE:\", \"{:.3f}m\".format(np.sqrt(np.mean(result.np_arrays[\"error_array\"]**2)))])\n",
                "            text.append([\"Length:\", \"{:.0f}m\".format(traj_refs[agent_id].path_length)])\n",
                "\n",
                "            text_col1 = \"\\n\".join([t[0] for t in text])\n",
                "            text_col2 = \"\\n\".join([t[1] for t in text])\n",
                "\n",
                "            ax_row[2].text(0, (overall_max-overall_min)/2, text_col1, fontsize=\"xx-small\", color='black', ha='left', va='center')\n",
                "            ax_row[2].text(0.65, (overall_max-overall_min)/2, text_col2, fontsize=\"xx-small\", color='black', ha='left', va='center')\n",
                "\n",
                "    print(f\"Overall RMS ATE: {np.sqrt(np.mean(np.concatenate([result.np_arrays['error_array'] for result in results.values()])**2))}\")\n",
                "\n",
                "    fig.savefig(f\"figures_output/{bag_name.split('/')[-1]}_line_plot.pdf\", bbox_inches='tight', dpi=300, pad_inches=0.01)\n",
                "\n",
                "    count += 1\n",
                "    \n",
                "\n",
                "    \n",
                "_ = ipywidgets.interact_manual(callback_ape, pose_relation=pose_relation_selector,\n",
                "                               **{c.description: c.value for c in check_boxes_ape})"
            ]
        },
        {
            "cell_type": "code",
            "execution_count": 28,
            "metadata": {},
            "outputs": [
                {
                    "data": {
                        "application/vnd.jupyter.widget-view+json": {
                            "model_id": "4248f1396a2d48fc84349b5d3d7ece1b",
                            "version_major": 2,
                            "version_minor": 0
                        },
                        "text/plain": [
                            "interactive(children=(Dropdown(description='pose_relation', index=1, options={'full transformation': <PoseRela…"
                        ]
                    },
                    "metadata": {},
                    "output_type": "display_data"
                }
            ],
            "source": [
                "import evo.main_rpe as main_rpe\n",
                "\n",
                "count = 0\n",
                "\n",
                "def callback_rpe(pose_relation, delta, delta_unit, all_pairs, align, correct_scale, plot_mode, show_plot):\n",
                "    global results, count\n",
                "    est_name=\"APE Test #{}\".format(count)\n",
                "    \n",
                "    fig = plt.figure()\n",
                "    ax = plot.prepare_axis(fig, plot_mode)\n",
                "    \n",
                "    overall_min = np.inf\n",
                "    overall_max = -np.inf\n",
                "    \n",
                "    results = {}\n",
                "\n",
                "    for agent_id in agent_ids:\n",
                "        result = main_rpe.rpe(traj_refs[agent_id], traj_ests[agent_id], est_name=est_name,\n",
                "                            pose_relation=pose_relation, delta=delta, delta_unit=delta_unit, \n",
                "                            all_pairs=all_pairs, align=align, correct_scale=correct_scale, \n",
                "                            support_loop=True)\n",
                "        results[agent_id] = result\n",
                "\n",
                "        if result.stats[\"min\"] < overall_min:\n",
                "            overall_min = result.stats[\"min\"]\n",
                "        if result.stats[\"max\"] > overall_max:\n",
                "            overall_max = result.stats[\"max\"]\n",
                "\n",
                "    for agent_id in agent_ids:\n",
                "        if show_plot:\n",
                "            result = results[agent_id]\n",
                "\n",
                "            plot.traj(ax, plot_mode, traj_refs[agent_id], style=\"--\", alpha=0.5)\n",
                "            plot.traj_colormap(\n",
                "                ax, result.trajectories[est_name], result.np_arrays[\"error_array\"], plot_mode,\n",
                "                min_map=overall_min, max_map=overall_max, color_bar_label=\"RPE [m]\", show_color_bar=agent_id == agent_ids[-1])\n",
                "    count += 1\n",
                "    \n",
                "    \n",
                "    \n",
                "_ = ipywidgets.interact_manual(callback_rpe, pose_relation=pose_relation_selector, plot_mode=plotmode_selector, \n",
                "                               delta=delta_input, delta_unit=delta_unit_selector, \n",
                "                               **{c.description: c.value for c in check_boxes_rpe})\n"
            ]
        },
        {
            "cell_type": "code",
            "execution_count": 43,
            "metadata": {},
            "outputs": [
                {
                    "data": {
                        "application/vnd.jupyter.widget-view+json": {
                            "model_id": "e8cf48aa61e249f0bd5478c138884154",
                            "version_major": 2,
                            "version_minor": 0
                        },
                        "text/plain": [
                            "interactive(children=(Dropdown(description='pose_relation', index=1, options={'full transformation': <PoseRela…"
                        ]
                    },
                    "metadata": {},
                    "output_type": "display_data"
                },
                {
                    "data": {
                        "application/vnd.jupyter.widget-view+json": {
                            "model_id": "7e964149332342d0afb2b38b5263d4bf",
                            "version_major": 2,
                            "version_minor": 0
                        },
                        "image/png": "[encoded data removed]",
                        "text/html": [
                            "\n",
                            "            <div style=\"display: inline-block;\">\n",
                            "                <div class=\"jupyter-widgets widget-label\" style=\"text-align: center;\">\n",
                            "                    Figure\n",
                            "                </div>\n",
                            "                <img src='data:image/png;base64,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' width=335.0/>\n",
                            "            </div>\n",
                            "        "
                        ],
                        "text/plain": [
                            "Canvas(toolbar=Toolbar(toolitems=[('Home', 'Reset original view', 'home', 'home'), ('Back', 'Back to previous …"
                        ]
                    },
                    "metadata": {},
                    "output_type": "display_data"
                }
            ],
            "source": [
                "import evo.main_ape as main_ape\n",
                "import evo.common_ape_rpe as common\n",
                "import seaborn as sns\n",
                "\n",
                "color_palette = sns.color_palette('Set1', 120)\n",
                "\n",
                "count = 0\n",
                "\n",
                "def callback_ape(pose_relation, align, correct_scale, plot_mode, show_plot):\n",
                "    global results, count\n",
                "    est_name=\"APE Test #{}\".format(count)\n",
                "    \n",
                "    fig = plt.figure(figsize=(6.7/2, 2.2))\n",
                "    ax = plot.prepare_axis(fig, plot_mode)\n",
                "    \n",
                "    overall_min = np.inf\n",
                "    overall_max = -np.inf\n",
                "    \n",
                "    results = {}\n",
                "\n",
                "    for agent_id in agent_ids:\n",
                "        result = main_ape.ape(traj_refs[agent_id], traj_ests[agent_id], est_name=est_name,\n",
                "                              pose_relation=pose_relation, align=align, correct_scale=correct_scale)\n",
                "        results[agent_id] = result\n",
                "\n",
                "        if result.stats[\"min\"] < overall_min:\n",
                "            overall_min = result.stats[\"min\"]\n",
                "        if result.stats[\"max\"] > overall_max:\n",
                "            overall_max = result.stats[\"max\"]\n",
                "\n",
                "    for agent_id in agent_ids:\n",
                "        if show_plot:\n",
                "            result = results[agent_id]\n",
                "\n",
                "            if agent_id == 1:\n",
                "                color = color_palette[0]\n",
                "            elif agent_id == 2:\n",
                "                color = color_palette[1]\n",
                "            elif agent_id == 3:\n",
                "                color = color_palette[2]\n",
                "\n",
                "            plot.traj(ax, plot_mode, result.trajectories[est_name], alpha=0.3, color=color, label=f\"Agent {agent_id} Est.\")\n",
                "            \n",
                "    \n",
                "    plt.tight_layout()\n",
                "    ax.set_aspect(\"equal\")\n",
                "    ax.axis('off')\n",
                "    # ax.legend(loc='upper left')\n",
                "    # ax.set_xlim(-3.5, 2.75)\n",
                "    # ax.set_ylim(-2.4, 2.6)\n",
                "\n",
                "    params = dict(bottom=0, left=0, right=1, top=1)\n",
                "    fig.subplots_adjust(**params)\n",
                "\n",
                "    # save as file\n",
                "    if show_plot:\n",
                "        fig.savefig(f'figures_output/{bag_name.split(\"/\")[-1]}_trajectory_overlay.png', bbox_inches='tight', dpi=300, pad_inches=0.01, transparent=True)\n",
                "        \n",
                "        \n",
                "\n",
                "    count += 1\n",
                "    \n",
                "    \n",
                "    \n",
                "_ = ipywidgets.interact_manual(callback_ape, pose_relation=pose_relation_selector, plot_mode=plotmode_selector,\n",
                "                               **{c.description: c.value for c in check_boxes_ape})"
            ]
        },
        {
            "cell_type": "markdown",
            "metadata": {},
            "source": [
                "# Data rate anaysis"
            ]
        },
        {
            "cell_type": "code",
            "execution_count": 18,
            "metadata": {},
            "outputs": [],
            "source": [
                "import pandas as pd\n",
                "import sys\n",
                "import zlib\n",
                "\n",
                "bw_df = pd.DataFrame(columns=[\"timestamp\", \"topic\", \"msg_size\"])\n",
                "\n",
                "robot_names = [f\"robot{agent_id}\" for agent_id in agent_ids]\n",
                "\n",
                "topics = (\n",
                "    # [f'/{robot_name}/ground_truth_pose' for robot_name in robot_names] +\n",
                "    [f'/{robot_name}/camera_pose' for robot_name in robot_names] +\n",
                "    # [f'/{robot_name}/camera_pose_marker' for robot_name in robot_names] +\n",
                "    [f'/{robot_name}/successfully_merged' for robot_name in robot_names] +\n",
                "    # [\"/sim3_transform\"] +\n",
                "    [\"/successfully_merged\"] +\n",
                "    # [f'/{robot_name}/all_points' for robot_name in robot_names] +\n",
                "    # [f'/{robot_name}/kf_markers' for robot_name in robot_names] +\n",
                "    # [f'/{robot_name}/tracked_points' for robot_name in robot_names] +\n",
                "    [f'/{robot_name}/new_key_frames' for robot_name in robot_names] +\n",
                "    [f'/{robot_name}/new_key_frame_bows' for robot_name in robot_names] +\n",
                "    [f'/{robot_name}/get_current_map/_service_event' for robot_name in robot_names] +\n",
                "    [f'/{robot_name}/get_map_points/_service_event' for robot_name in robot_names] +\n",
                "    [f'/{robot_name}/map_to_attempt_merge' for robot_name in robot_names]\n",
                ")\n",
                "\n",
                "with Rosbag2Reader(bag_name) as reader:\n",
                "    data = []\n",
                "\n",
                "    connections = [c for c in reader.connections if c.topic in topics]\n",
                "    for connection, timestamp, rawdata in reader.messages(connections=connections):\n",
                "        data.append({\"timestamp\": timestamp, \"topic\": connection.topic, \"msg_size\": sys.getsizeof(rawdata),  \"compressed_msg_size\": sys.getsizeof(zlib.compress(rawdata))})\n",
                "    \n",
                "    bw_df = pd.DataFrame(data)\n",
                "    bw_df[\"timestamp\"] = pd.to_datetime(bw_df[\"timestamp\"])"
            ]
        },
        {
            "cell_type": "code",
            "execution_count": 19,
            "metadata": {},
            "outputs": [],
            "source": [
                "from datetime import timedelta\n",
                "\n",
                "interval = 10\n",
                "speed = 0.2\n",
                "\n",
                "interval /= speed\n",
                "interval = int(interval*1000)/1000\n",
                "bw_df_grouped = bw_df.copy()\n",
                "# bw_df_grouped[\"timestamp\"] = bw_df_grouped[\"timestamp\"] + timedelta(seconds=-2.8)\n",
                "bw_df_grouped = bw_df_grouped.groupby([pd.Grouper(key='timestamp', freq=f'{interval}S'), 'topic']).sum()\n",
                "bw_df_grouped[\"mbps\"] = bw_df_grouped[\"msg_size\"] / 1e6 / interval / speed\n",
                "bw_df_grouped[\"compressed_mbps\"] = bw_df_grouped[\"compressed_msg_size\"] / 1e6 / interval / speed\n",
                "bw_df_grouped = bw_df_grouped[['mbps', 'compressed_mbps']].unstack('topic').fillna(0)\n",
                "bw_df_grouped.index = bw_df_grouped.index - bw_df_grouped.index.min()\n",
                "bw_df_grouped.index = bw_df_grouped.index.total_seconds() * speed"
            ]
        },
        {
            "cell_type": "code",
            "execution_count": 20,
            "metadata": {},
            "outputs": [],
            "source": [
                "column_rename = {\n",
                "    \"/robot1/camera_pose\": \"$agent_0$ Camera Pose\",\n",
                "    \"/robot2/camera_pose\": \"$agent_1$ Camera Pose\",\n",
                "    \"/robot3/camera_pose\": \"$agent_2$ Camera Pose\",\n",
                "    \"/robot1/new_key_frames\": \"$agent_0$ Key Frames\",\n",
                "    \"/robot2/new_key_frames\": \"$agent_1$ Key Frames\",\n",
                "    \"/robot3/new_key_frames\": \"$agent_2$ Key Frames\",\n",
                "    \"/robot1/new_key_frame_bows\": \"$agent_0$ Key Frame BoWs\",\n",
                "    \"/robot2/new_key_frame_bows\": \"$agent_1$ Key Frame BoWs\",\n",
                "    \"/robot3/new_key_frame_bows\": \"$agent_2$ Key Frame BoWs\",\n",
                "    \"/robot1/get_current_map/_service_event\": \"$agent_{0\\\\to1}$ Full Map alt\", # ?\n",
                "    \"/robot2/get_current_map/_service_event\": \"$agent_2$ Full Map\", # ?\n",
                "    \"/robot1/get_map_points/_service_event\": \"Alignment Data\",\n",
                "    \"/robot2/get_map_points/_service_event\": \"$agent_1$ Alignment Data\",\n",
                "    \"/robot3/get_map_points/_service_event\": \"$agent_2$ Alignment Data\",\n",
                "    \"/robot1/map_to_attempt_merge\": \"Full Map\",\n",
                "    \"/robot2/map_to_attempt_merge\": \"$agent_{0\\\\to1}$ Full Map\",\n",
                "    \"/robot3/map_to_attempt_merge\": \"$agent_{0\\\\to2}$ Full Map\",\n",
                "    \"/successfully_merged\": \"Merge Info\",\n",
                "}"
            ]
        },
        {
            "cell_type": "code",
            "execution_count": 21,
            "metadata": {},
            "outputs": [
                {
                    "name": "stdout",
                    "output_type": "stream",
                    "text": [
                        "                          total kbps    avg kbps\n",
                        "$agent_0$ Key Frame BoWs     371.422    1.867764\n",
                        "$agent_0$ Key Frames       69970.820  351.861255\n",
                        "$agent_1$ Key Frame BoWs     437.220    2.198642\n",
                        "$agent_1$ Key Frames       63907.894  321.372706\n",
                        "$agent_2$ Key Frame BoWs    1495.792    7.521868\n",
                        "$agent_2$ Key Frames       65163.957  327.689052\n",
                        "$agent_{0\\to1}$ Full Map   13952.758   70.164033\n",
                        "$agent_{0\\to2}$ Full Map    7318.579   36.802833\n",
                        "Alignment Data             22599.638  113.646474\n",
                        "total 245218.08000000005 avg 1233.1246274931996\n",
                        "                          total kbps    avg kbps\n",
                        "$agent_0$ total sent      114584.639  576.210124\n",
                        "$agent_1$ total sent       64345.114  323.571348\n",
                        "$agent_2$ total sent       66659.749  335.210920\n",
                        "$agent_0$ total received  131004.863  658.782268\n",
                        "$agent_1$ total received  173554.387  872.750447\n",
                        "$agent_2$ total received  164605.573  827.749674\n"
                    ]
                }
            ],
            "source": [
                "stats_df = bw_df[[\"topic\", \"compressed_msg_size\"]].groupby(\"topic\").sum()\n",
                "stats_df[\"total kbps\"] = stats_df[\"compressed_msg_size\"] / 1000\n",
                "stats_df[\"avg kbps\"] = stats_df[\"total kbps\"] / (bw_df[\"timestamp\"].max() - bw_df[\"timestamp\"].min()).total_seconds() / speed\n",
                "stats_df.index = [column_rename[x] if x in column_rename else \"\" for x in stats_df.index]\n",
                "stats_df.loc[\"$agent_{0\\\\to1}$ Full Map\"] = stats_df.loc[[\"$agent_{0\\\\to1}$ Full Map\", \"$agent_{0\\\\to1}$ Full Map alt\"]].sum()\n",
                "stats_df = stats_df.sort_index()\n",
                "stats_df = stats_df.drop(index=[\"Merge Info\", \"$agent_0$ Camera Pose\", \"$agent_1$ Camera Pose\", \"$agent_2$ Camera Pose\", \"$agent_{0\\\\to1}$ Full Map alt\"])\n",
                "print(stats_df[[\"total kbps\", \"avg kbps\"]])\n",
                "print(\"total\", stats_df[\"total kbps\"].sum(), \"avg\", stats_df[\"avg kbps\"].sum())\n",
                "\n",
                "total_stats_df = pd.DataFrame(columns=stats_df.columns)\n",
                "total_stats_df.loc[\"$agent_0$ total sent\"] = stats_df.loc[[\"$agent_0$ Key Frames\", \"$agent_0$ Key Frame BoWs\", \"$agent_0$ Key Frame BoWs\", \"$agent_{0\\\\to1}$ Full Map\", \"$agent_{0\\\\to2}$ Full Map\", \"Alignment Data\"]].sum()\n",
                "total_stats_df.loc[\"$agent_1$ total sent\"] = stats_df.loc[[\"$agent_1$ Key Frames\", \"$agent_1$ Key Frame BoWs\"]].sum()\n",
                "total_stats_df.loc[\"$agent_2$ total sent\"] = stats_df.loc[[\"$agent_2$ Key Frames\", \"$agent_2$ Key Frame BoWs\"]].sum()\n",
                "total_stats_df.loc[\"$agent_0$ total received\"] = stats_df.loc[[\"$agent_1$ Key Frames\", \"$agent_1$ Key Frame BoWs\", \"$agent_2$ Key Frames\", \"$agent_2$ Key Frame BoWs\"]].sum()\n",
                "total_stats_df.loc[\"$agent_1$ total received\"] = stats_df.loc[[\"$agent_0$ Key Frames\", \"$agent_0$ Key Frame BoWs\", \"$agent_2$ Key Frames\", \"$agent_2$ Key Frame BoWs\", \"$agent_{0\\\\to1}$ Full Map\", \"Alignment Data\"]].sum()\n",
                "total_stats_df.loc[\"$agent_2$ total received\"] = stats_df.loc[[\"$agent_0$ Key Frames\", \"$agent_0$ Key Frame BoWs\", \"$agent_1$ Key Frames\", \"$agent_1$ Key Frame BoWs\", \"$agent_{0\\\\to2}$ Full Map\", \"Alignment Data\"]].sum()\n",
                "print(total_stats_df[[\"total kbps\", \"avg kbps\"]])\n"
            ]
        },
        {
            "cell_type": "code",
            "execution_count": 22,
            "metadata": {},
            "outputs": [],
            "source": [
                "topic_bw = bw_df_grouped[[\"compressed_mbps\"]].droplevel(0, axis=1).sum().to_dict()\n",
                "sorted_topics = [k for k, v in sorted(topic_bw.items(), key=lambda item: -item[1])]"
            ]
        },
        {
            "cell_type": "code",
            "execution_count": 23,
            "metadata": {},
            "outputs": [],
            "source": [
                "import colorsys\n",
                "\n",
                "def shift_lightness(rgb, shift_amount):\n",
                "    h, l, s = colorsys.rgb_to_hls(*rgb)\n",
                "    \n",
                "    l = max(0, min(1, l + shift_amount))\n",
                "    \n",
                "    r, g, b = colorsys.hls_to_rgb(h, l, s)\n",
                "    \n",
                "    return (r, g, b)"
            ]
        },
        {
            "cell_type": "code",
            "execution_count": 24,
            "metadata": {},
            "outputs": [
                {
                    "data": {
                        "application/vnd.jupyter.widget-view+json": {
                            "model_id": "9d07526baff74dcc8c07c898ffc41064",
                            "version_major": 2,
                            "version_minor": 0
                        },
                        "image/png": "[encoded data removed]",
                        "text/html": [
                            "\n",
                            "            <div style=\"display: inline-block;\">\n",
                            "                <div class=\"jupyter-widgets widget-label\" style=\"text-align: center;\">\n",
                            "                    Figure\n",
                            "                </div>\n",
                            "                <img src='data:image/png;base64,iVBORw0KGgoAAAANSUhEUgAAAU8AAAEsCAYAAABDrTEGAAAAOXRFWHRTb2Z0d2FyZQBNYXRwbG90bGliIHZlcnNpb24zLjguNCwgaHR0cHM6Ly9tYXRwbG90bGliLm9yZy8fJSN1AAAACXBIWXMAAA9hAAAPYQGoP6dpAAAvjUlEQVR4nO3db3Ab550f8C9IULR9NrkEIzuxxThaSrHjXCJrQV7u0rm7nLjru7mb9q4WQN70RaedMYnT9E1G5xBCO72L2mkhYHydvEsAaqZ37UxnSKzUptM/N8JKvWnTZC4g12ZyURI7XMrWH8dWCC0hJzFNSegLdlcACZDYxb8F+P3MaERgsbs/EuQPz7P7PL/HVywWiyAiIkd62h0AEVEnYvIkInKByZOIyAUmTyIiF5g8iYhcYPIkInKByZOIyAUmTyIiF5g8iYhcYPIkInKByZOIyAUmTyIiF5g8iYhcYPIkInKByZOIyAUmTyIiF5g8iYhcYPIkInLB3+4AdvPgwQPcunULTzzxBHw+X7vDIaIOUSwWcffuXTz99NPo6WlOG9HTyfPWrVsYGRlpdxhE1KGuX7+OQ4cONeXYnk6eTzzxBICtH8DAwECboyGiTlEoFDAyMmLnkGbwdPK0uuoDAwNMnkTkWDMv93k6eVJr3L9/H5ubm+0Og8i1vr4+9Pb2tvScTJ773AcffIAbN26gWCy2OxQi13w+Hw4dOoTHH3+8Zedk8tzH7t+/jxs3buCxxx7DwYMHOaKBOlKxWMTt27dx48YNHD16tGUtUCbPfWxzcxPFYhEHDx7Eo48+2u5wiFw7ePAgrl27hs3NzZYlTw6Sp5a2OA3DQDgcRiQSgWmaAIBkMolIJALDMOo6rqIoiEQiUFUV6XQawWDQPgd1t3b0mpg8qaVEUcT4+DgURYEgCNB1HZIkIZVKQRTFuo6rKAoURUEoFMLMzAwymUxdCbmbVfqwiUajVT9sdF3H6OgoVFUFAGiahqGhIei6bj9WFGVf/byZPKkt8vk8kskkNE2DLMtl26LRKFRVRTKZBLD1hzk6OgrTNGGaJhRF2bVFaZomkskkRFFEoVBAMBi0kwMARCIRaJpmPzYMA8FgEKqqQlXVsoSiaVrVuHRdh6qq0DTNfq5TVPqwMU2z7PstJUkSQqEQ8vk8AECWZQQCgbLjJRKJuj4AO01HXfP86KOPsLy87Hi/Y8eO4cCBA02IiNzKZrOYm5vDxMQEQqGQ/UdnJSFRFJHL5aDrOmRZRigUsls1qVQKgiBUPW4+n8fa2hoA4Etf+hIAYGZmxn5NIpFAPp+HruswDMM+tyzLEAQB0WgUqVQKpmlienoasixXjMswDMzPz2Nqaqrs+J0kl8vZPQBBEBAKhQDA/vDJ5/OQZRmiKCISiSAcDmNmZgaqqiKVSiEejyOTyUDXdXtf62djHXd2drad32LTdFTyXF5exvf/4k/xwseFmve5+lMT+NO/wPj4eNPiIuempqYgCAIymQzC4TAuX75sJ8Tx8XFIkgRJkuzXx2IxTE9PY2pqyv4jrcRqSZW2TEtbSIZhIJVKIRKJQBRF+3WBQMA+f7XWU6W45ubm7FZsKpVy+FNov/HxcciyjLGxMcTjcWiaZl9KsXoEiqIgm81CFEUEAgH7Q0yW5bJr15Zu+FCpRUd1290O5OYAcO8wDAPZbBbZbBamaUIURYiiiImJCbuVksvl7G6z9YcpCAICgUDVxGYYBnK5HLLZrN3qsZ43DMPujlrHsxLA/Py8/Rpd1+1Wk7WPYRgwTbNiXJqmYWFhAcBWgulkgiBgfHzc/gAoTYhWVx3YuuQRiUTsDxCrNVp66UUURczNzQGAfWmkG/mKHh4dXSgUMDg4iPX1dQwMDODb3/42/seXwzg82F/zMVbXN/D7X8vgi1/8YhMj7UwffvghVldXcfjwYTzyyCPtDmdPqqru2uqk2hmGYbe+FUVBPp/H0tISotEoRFG0u+2GYUCW5bLWdjgcRiaTAbCVZLe3upPJpP1hB6Al79n23+XtuaMZOip55nI53Hvtn2D8qdpnEeTe+wD+V/+S3fYKOiV5JpNJSJKEQCBQ9kdMZGlH8uyoa56bm5v4Yf6Xjva5mv8lPsNue0fr1hsO1Nk6KnkCwLXHDsH3hFD76z808ZnmhUNE+1RHJc++vj78wYtHMS4+XfM+OeMWevv6mhgVEe1HHXW3nYjIKzqq5UnN43YCQiWclFCfRr0XfB+ai8mTAGxNQPin//Hf4fGRj9d1nA+u/xT/HqfbOrohEol05IB1y/LyMr6f+td44ZmDro9x9eZtIPIv+T40UUOTpzUTYTtrqIlhGJicnKw6tY7a6/GRj2Pw6CfbHUZdSgfId7IXnjno6Nq+13TL+7CbhiVPq9rKdlbVFVmWYRhGx05jo8axZu5YrCl8pmkinU5DFEVks1mkUin7tdbsIkEQoGmaPTspl8shFotBEAT798sa3L2filS4wfehPg25YVSpMk7pttI5w4uLi1WPs7GxgUKhUPav1ObmJq7evI2ccavmf1dv3ub0TA8xTROpVAozMzNlc8sB2EUnrCIgpmnas2AAlP0era2tIRQKYXh42E4A1utisZj9tVX1aD+VSqsF34f61d3y1HXd/iTay16FaePxOM6ePbvra37w41588F7tQ4/eNnvxfM2vpmZbXFy0r8Nls1lMTU2VtU5Ka3wahoFQKLTjg9kq7GEdo7T4hGmaduvH+lAXRRHRaBSJRKJF36X38X2oX0O67aUFFbbPP5Ykye665/N5jI2NVT1OLBbD6dOn7cfW2suWvr4+vHRUwvGnR2uO7fVbK+jjOM+afHD9p00/hizL0HXd7vItLi5icnISwNY1c03T7D9KSZKgaVpZ91CSJPtrYOuPfGFhwf7DFUURqqpClmWsrKzYx+60ivJXb96ue//P7bKd70P9Gja3XdM0hMNhzM3NIRQKQVEUZDIZCIJg3zDSdR0zMzM1X0iuNLc9//W/dpw8A6d+j3PbKyidD9zT0+OZoUrW71G9NxzS6XRHtni8MlSpk94HFgbZhsmzubxUGKS0jqRpmg2pxGOVjRMEwS59R7vr1PeBhUFo35JluepNR7dKK6NTbfg+1I7TM4mIXGDyJCJygd12AsC57V7ilRtGtDsmTwKwNZ/6Ty/MQTj8TF3HMVdv4i8wzTnVdVheXsb3/vkUXgg86voYV/O/BP7tPN+HJmLyJJtw+BkcfL6z70h3y5zqFwKPOlpuxmu65X3YDZMntRznVHsD34f68IYRtVSr51Sn02mk0+nWfYMdgu9D/Zg8qaW2z6m2qm1Zqs2pDoVC9gDrbDZbNqe6tGVTOqcagD0tkMrxfagfu+1kM1dvNuYYu6wO3Mo51Z3sqsNVYivt//ldtvN9qB+nZ+5j3T63HdhqAZX+UXcCrwxV6qT3gdMzqW0OHDjQ1g+Y0jnVU1NTDbtTu7CwgKWlJbsb2Qna+V7wfagdkyd5QjPmVAPoqBanF/B9qB1vGBERucDkSUTkApMnEZELvOZJALqrMEinz6n2yt32enX6+7AXJk8CsFWMIv7f/xOeHH22ruO8v/I2YkDb7hZ3w5zq5eVlfOdfncdzBw+5PsaPb98A/uwVvg9NxORJtidHn8Uzn/1008/DOdV7e+7gIUfjmd3g+1AfXvOklmrlnGpr7ZxkMtlV64U3At+H+jF5Uku1ck714uIixsbGEAqFuvramxt8H+rXkOSZTqehaRqi0WjFdZmDwSCCwSDC4XBXrdtMzlkDsEvnVAcCAQAP51TH43EoigJJkjA8PAxN06CqKnRdB4CKc6ot1pzqQCAAWZbt7uXU1FSLv1Nv4/tQv7rntlvXR2ZnZ5FMJiEIwo7ZBKqqulo9j3Pbm6t0PvD3v//9xt0w+oN/VNfPu5FzqnVdRz6fx9jYWMfcwMjlcg25YfQbdd4w6qT3oSPntguCgNnZWaiqipWVlYoL2huGAU3T7GZ+tQvIGxsb2NjYsB8XCoV6w6MaHTt2DLFGHOj5v4djx4453q0Zc6p1Xcf09DTGxsZgGEbHTBE8duwY8Gev1HWM37CO4xDfh9o1tKpSNBrF6Oho1R+OrutIpVJVr3t89atfxdmzZ3c8z5Znc2z/tCbqVO1oedZ9zVNVVbtCtKIoyGQyZdut6yS1iMViWF9ft/9dv3693vCIiJqi7uRZeuE5k8nYrUpFUWCaZtn2+fn5it16S39/PwYGBsr+ERF5UUOueVrd9NJSVtls1v7aulnUzVWliWh/4ThPIiIXmDyJiFzoqLntm5ubWwUPHPjx7RsY29xsUkREtF/5X3rpJQSDQRSLRfh8voovsrbF4/EWh7eTkf857j1Yr/n175g/x1gT4yGi/ckfiURw8uTJPV944cKFFoSzu76+PshHvoAXP/Fczfu88e6P0dfX18SoiGg/6qmWOK9du1b2uJYES0S0X5TdMDp16hRef/11/O7v/i5SqRRee+21dsVFRORpZcnTKje1srKCeDyOw4cPtysuIiJPK7vbbhgGXn/9dXtQ++rqaluCIiLyurKWpyzLGBwcxLlz5zA3N4cG1gwhIuoq/kKhYM8hP3z4MKanpwHA/p+IiHbyZ7NZ5HI5HDlyBJOTkyzGQURUA//Jkydx8uRJrK6uIpVKIZ/PQ1EUnDhxot2xERF5ln3N8/Dhw/jKV76CeDyOYrGIM2fO4LXXXtsx3pOoHoZhQFEURCIRuxZsMBisuraVYRgIBoM7vq70unA4jHA4vOP5oaGhmmvKEtWq4tz2iYkJTExMYH19HQsLCzAMA+Pj43j55ZdbHR91GVEUoSgKRFEsK1VoGAYkSar4emvZltKvK71uamoK2Wy2bK1w62s3a2gR7WbXqkqDg4OYnp5GPB7H8ePHWxUT7ROmaSKZTEIURfT09GB0dGt5FU3TqrYw9xKNRu2C26Zp2itClopEIvZqr8DW8jCjo6NQVRWqqtrPE+2mBwDeeOMNvPHGGwC2Fl07derUjtlFHDBPjZTNZrGwsIC1tTUAwIsvvmi3FmVZrpj0aiGKIvL5vL2cbqXWbCKRgCiK0HXdbvFarVOrhcpuPu2lZ25uDidOnEA4HMbFixcxOzuLwcFBfPe738WpU6faHR91KUVRMDMzg1is8pqd+Xze9bEjkUjVCmCGYdjbRFGseK3VNM2OWaaY2se/srJi/6KeOXMG0WjUbmWeOXOmnbFRFzIMA7lcDisrK3aLz6Ioit3iM00Tuq5DEATour7j6+0tSsMw7PWzQqEQUqkUZFmGruswTROqqiIUCtnJ0jAMAMD8/DwkSUI+n4eqqsjn8xAEgUvG0J781nUmABgfHy/rnpduI2oEURR3rLBqmZ2dtb8uvcGzsrJS8evtxy1dN8s6hyRJZftIkmQn3tIEGQgEeFOJHOkpLYA8NDRUtrFaceTt0um0fQG+UjcomUxC0zSk0+mqQ1KI2sUwDBiGAV3X2x0KdRD/uXPn7E9s0zTtrk+xWMTq6ipeeeWVXQ9gmqa9xLCu61hYWLBX0wRg/0Jaw1Gi0ah9DiIvsCqJETnhlySpLNmVqiXJCYKA2dlZqKqKlZWVHeuya5pmX3wXRRGLi4tVj7WxsYGNjQ37caFQqOFbICJqPX8ikag6DKnagORKQqEQcrncjpZnqb267PF4HGfPnq35nERE7eIfHh6uunG3bRbrDuXMzAwURUEikShLnpIk2V33fD6PsbHqy7HFYjGcPn3aflwoFDAyMlLL90F1+uijj7C8vNyQYx07dgwHDhxoyLHciEQiHX1pqFHvRbvfh27nj8fjVcfapdNpvPrqq7seQJZlLCwsQNM0ZDIZ+5dWURRkMhn7WqimadB1fUe3vlR/fz/6+/vdfzfk2vLyMv7PV+fx6Y89W9dx3vzZ28BXt0ZutINhGB0/RnN5eRla9ss4emTQ9THe+sk6gK/V9D5Eo1GMjo6WNXqsWgFLS0sAgGAwaH/dLslksmxERrv5U6kUNE0DALv4sc/ns28Y7ZU8BUGwf+ilQz9Kh41Y3zDHznnbpz/2rKOVSd3SNM0eZwnA/v0xTRPpdNoedmT9bhqGgUAgAFEUIQgCNE2DaZoQRRG5XA6xWAyCINg3JEVRLJvf3omOHhnE5z73sZaca3R0FKlUqix5bq8j0O7ECWzlFE8lz6WlJXsA8sTERNlGLyw3TN3FGtGRyWTs3oglHA4jk8lAEASkUimYpml3wUtn/VjJdXZ21h5mVDrg3kqmwNZlJUEQdi0qUiqdTgNA1ev23UbTNMzMzCCbzVacfADsbIVa9Qiy2SwURYEkSQiHw3YP1rqMZ+1nPW+9Pp/PQxRFuzEVjUYxPj4OwzDs93T78cbGxmAYBlRVhSzLnuhd9Bw+fBgnT57ExMQELl++jIsXL9rz3LncMDXa4uKi3ZXMZrP2EDaLNYtIkiQYhoFQKARZlu3FCa0/2kgkYh+jNClaSdYwDKTTaUiSBFmWq14DLT03AExOTjb6W/a0bDYLVVUhimLVKa2lHzymaWJlZQWyLCOfz9vvCwD7fbImKGx/XtM0hEIhTE5O2u9HMpm0X7u2tgZd1yser7T+gBcSJ7CtqtLExARefvlliKKIWCzGpYep4azWhtX1XlxctIuAKIoCTdMQj8ftFs3w8DA0TYOqqnYr1eqyA1vJdmFhwT6+KIpQVRWBQAArKyv2sauN9AgEAnZrc7/RdR2RSAShUAiJRMKeyrobQRCgKAoMwyibKRYIBComtdLnq7X8x8fHIUkSEomE3fKtdjwrbi8oq+dZKBSQSqUwPz+PsbGxffcpTK1R7Rq49XwqlbJHZVS6xlXaitw+1bN02+joqD1XvbQbv10mk8HY2FjFLmu30nV9R/k+URQxPT2Nubk55PP5qjUF4vE4xsbGIAiC3QMonaFlXUqp9rxVzco0TczOztolAPP5PCYnJ5HP5yvuZ9U+8Mq1bD+wdW0zlUrB5/MhEonYA9k5SH1/efNnbzfkGE/h1x3vZ13/lCQJU1NTDemaTU5O2jecrD/y7fPXrZtMVuJcWFjA0tJS2ysrbd0tr2//Z3epIilJUtlNXUEQdjyuVFMgmUxibm4OkiTBNE1MT08jk8lUrT9Q6evtxam3j8Cpdm4v3SwCAP/Ro0chy7Jd49Dn86FQKGBtbQ3JZBJf//rX2x0jtcCxY8eAr9Z/nKfw61vHckiW5YaPxhAEoaZiH6Xn9cKNoq2f39fqOsazh+HqfdiLLMtYXFy0a6YqitLwc3QK//HjxxEKhZDP53Hnzh0Ui0V7qJJVqJa634EDB9o2NrOdvNIFLOXl96K0KtV+17DpmURE+0nPbncaS5NqtVlIRET7kb9YLO6aGK1uPGcHERE95D937ly7YyAPYGEQImcqrttO+8/y8jKW/sO/wfMjT9Z1nB9dfx/4x/+ChUE8zhq+JYqiPWVyZWWlbGprJV4rztFOTJ5ke37kSQSPPtP087AwSPtZSbN0zKVpmgiHw2XjPbfzWnGOdurZ+yVEjWMVBpmZmdmx9G84HMbMzAxCoZA9A8VqHQEom+a3traGUCiE4eFhOxGXFgaxvlZVdUey3i02TdOQTCZren23sWZiWTN7IpGIvTYZAHtmkKqq9vu2/TX7ya7JkzOMqNG8XBhkcXERY2Nj9tLF+501ccZKmpWKc2x/zX5SljwLhQIuXryI8+fP4/z585ienm5XXNSlvFwYxCp1pmkapqammvL9e52VJA3DsKssbe8hAA9bobu9ptuVXfOcnZ1FMBi0H1vFkb1ic3PT8fzrN3/2NgKbwb1fSFs3expwjL1+2l4uDGKVROv266WGYexotedyOVy+fBnAww8bqzU5Pz8PSZLKinNUe81+4SuWZMgLFy6U1fBcX1/H4KD7pQDqVSgUMDg4iPX1dQwMDODb3/42/uvXYvjUU4Gaj3HtvTz+wZfj+OIXv9jESDvThx9+iNXVVRw+fBg9PT1tHapUWhjENM2a5qTvxbqGuVsxZKtij7VczPT0NMbGxhAMBj0xz51qU/q7/Mgjj+zIHc3gv3btmv3gzp07uHLlil1LL5VKVS2Q2g59fX34vbHnHN0RXnrrJvr6+poYVXdo93xqLxQGkSTJE8tNUGfwy7KMYDBYsYu+urrqqeRJ1Gjd3j2n5vFnMhkcP3684sbV1dUWh0NE1Bn81RIngKrVlrazLsLncrmycXkW6yaUKIqYm5vjDBAi6nhlQ5WuXLlif33hwgVcvHhxzwNYyxaHQiEoilJxsGwsFsPS0pK9MiIRUafzAw8Hw+u6bg8RkSSppqWHSy/y67pe8aaDYRjQNM0e3FztOtPGxgY2NjbsxxykT0Re5Qe2xmdlMhl77JdVhs6axVELwzCwtra2Yz0S4OFYvUAggEQiUXX2Rjwex9mzZ918H0RELeUHgOnpaUxPT+Py5cuYmJhwfBBrpTtr+dLSgbLWTJJahozEYjGcPn3aflwoFDAyMuI4HiKiZtuxbrtT1pKg8XgcwWDQvgaqKApM0yybjjc/P1+xZWrp7+/HwMBA2T8iIi/y73ZTaH5+HvPz87seQBTFsmVCLaVlraxWJ6vRE1G38H/jG9/ASy+9hGKxiFwuB1EUMTw8jLW1Ndy5c6fd8REReZI/k8nY89e3X/O0igQQEVG5ntLCH9tnFK2vr7c6HiKijlBWkq5YLGJqagrj4+NYWVkpK09HREQPlSVPqxyXpmkIhUKu7r4TEe0HPcDDmTzXrl3D0NAQwuEwRkdH8dprr7U1OGoNrxW9JnKqHb/DfmCrcMfS0hKs8nSBQADFYhFLS0t49dVXWx4UtUZfXx98Ph9u376NgwcPwufztTskIseKxSJu374Nn8/X0tq9fgB46623AGyNzSytpMSSdN2tt7cXhw4dwo0bN1BaFJuo0/h8Phw6dAi9vb0tO2fZNc/h4eGyjbWWpKPO9fjjj+Po0aPY3NxsdyhErvX19bU0cQLbkufExATm5ubw4osvtjQIaq/e3t6W/+IRdbqy5Hnu3DkMDg7i/PnzCAQCkCQJn/rUp9oUGhGRd5UVBhkdHcXhw4cxNDSEb3zjG7sW8SAi2s/KWp6yLMPn8yEajeLSpUvtiomIyPPKWp6JRAKLi4sYGhrC+fPneQeWiKiKHd321dVV5HI5nDt3rmrFdyKi/a6s237ixAkoioJIJIJz5861KyYiIs8rS56ZTIbz2YmIalD3MhxERPtR3ctwEBHtR1yGg4jIBS7DQUTkgr8Ry3CoqgoAyOVyiEQiEEWxbHsymYQkSTAMA5OTkxAEob6oiYjarOyGkbUMx2uvvYZTp04hn8/veQBrnfZQKARFURCNRsu267oOYGv2kizLO7YTEXWiupfhKF2LXdd1jI+Pl23XNM1uaYqiiMXFxarH2tjYwMbGhv3YqnBPROQ1/u1PHD9+HMePHwewlbwGBgZqOpBhGFhbW9u1mIhpmrseIx6P4+zZszWdj7zpo48+wvLysqt9jx07hgMHDjQ4IqLmKEuehUIBmqbZ3fVsNlvTUCXDMKDrOhKJBHRdhyRJ9jZJkuyuez6fx9jYWNXjxGIxnD59uiyekZERZ98RtdXy8jK07Jdx9Mjg3i8u8dZP1gF8bUfPhcirypLn7Oxs2XLDtSyqZBgGFEWBIAiIx+OYmpqCJElQFAWZTAayLEPXdWiaZifYavr7+9Hf31/Ht0NecPTIID73uY+1OwyipipLnoqi4OTJk/bjycnJPQ8giiJWVlZ2PJ/NZu2vZ2dnAZRfHyUi6mRlydPn8+HKlSsIBAIQBAGpVArxeLxdsVEH2tzc/P9dcGfe+sk6nj7EdZSoc1Tstlvd9dXVVSZPcuzS6ieR2/yEo33u3HgXv/2l5sRD1Aw7qipZd9oB7y09vLm5iR9df9/RPj+6/j4+z5UhXd8Fd3oHvK+vD8/91hfwzGc/7eg8N3/wZkvX3CaqV1nyLE2cb7zxBgzD8Nzyw9+/b8C8V3sCvX7/A3y+ifF0Cjd3wXkHnKi6suS5urqKaDQKn8+HO3fuYGhoCC+//HK7Yqvo0KEncMRBAijC18RoOgvvghM1TlnyTCQSiMViWFxchCzLMAyjXXFV5fR6Gq+lEVEzlCXPcDiM48ePY2lpCYcPH/bcNU8319N4LY2ImqEseeq6jtXVVRSLRfzJn/wJ7ty5gxMnTrQrNmogN0OIOHyIqLqy5PmVr3zF/loUxR2l5aiz8ZIHUeP4ga076wDw4osvolAoIBqNYnR0lGsadRFe8iBqrJ65uTmcOHEC4XAYFy9exOzsLAYHB/Hd734Xp06dand8RESe5F9ZWbGrKJ05cwbRaNQe23nmzJl2xkZE5Fk9o6Oj9oPx8fGyQfGl24iI6KEen+/hIPKhoaGyjaXbiIjoIf+5c+fs8nGmaSKVSgHYquW5urqKV155pZ3xERF5kl+SJMzMzFTcaCVSIiIq508kElWLf3TDOM/79+7h6tWrjvfjejpEtBv/blWTvFZRyY21d27hVt9/xq88ympCRNQ4O1bP7EatqCbEVSOJ9pd9kTxbgatGEu0vTJ4NxHqZRPtH3clTVVWkUimkUqmKN5ispYxFUcTc3BwEQaj3lI48uH+/JdWEuPAZ0f7iv3btWtWNtayeGQqFypYZ3i4WiyEUCrmNr37F1lUT4sJnRPuHX5ZlBIPBHbOLAGBpaanu1TMNw4Cmachms4hEIrsOf9rY2MDGxob9uFAo1HVuAOjx97akmpDbhc/eWb6Kt956y/H5uu0mE4eUUafxZ7PZqkOSGlFJfnZ2FgAQCASQSCR2HXgfj8dx9uzZus/ZSTiUasvaO7fwzeJNfKfnTs37/PRNA//w6lW88MILjs7FhEuNUHWcZyNWz9Q0DaZp1txtj8ViOH36tP24UChgZGTE9fk7BW80bXly9FlHLff3jXdw62Z633/wUHvUvXqmpmlYXFyEqqoIhUIQRRGKoiCTyUCWZaiqanfbE4nErsfq7+9Hf39/1e2bm5t4f+VtB9/e1jXFJ8VPOtqHOgc/eKhd6l49U5ZlLC0tlT1XegPJanXKstyIeLG6eg0/2/h5za9/79a7eK4hZ95/3FyHvHr1Ku4/uNekiIi8o+NWzxz54os4+Hznz7nvBG6ux966uY61zS/gk8ecXYck6jRcPbPNWjkO1c0lj6OK825x7oeOXk7Ukbh6Zru1cByqm0sewGPOT+RxHBJFjVB1hhFXzmyNVo5DdXfJ44bD13vfX37rr/GcgyFR76+8jRjAO/RUpix5Xrlyxe6mX7hwAT6fb8+77USdZujQJxxPZiDazg88nMmj6zrGxsYAAJIk4cKFC+2LjNrO7fVYov3ADwDz8/PIZDIwDAPZbBbFYhE+nw+RSKTd8VGbOb0e+/brfwfpD59uYkRE3uAHgOnpaUxPT+Py5cu81km2nl7n12MBoNfPSofU/XpKH0xMTODKlSuIxWK4cuVKu2IiIvK8suQ5NzeHS5cuQRRFXLp0CefPn29XXEREnlbWvwoEApienrYf84YREVFlZcnT5/Nht8dEtXA6kwlgARfqPGXJc21tDbFYDOPj48jlchgeHm5XXNShhj/5NP63+t8czWQCWMCFOo9/fHwcU1NTkCTJvuOezWYxPj6OkydPtjs+6jC9fj+e+vyncfT3frPdoRA1lX9iYgKvvvqq/cTExIQ9XKlQKGBgYKBdsVEVbkvFPbjXXaXiOIif2sl/5MiRqhsXFhbwyiuvtDAcqoXbUnGFu5/FU7/qzWmJD+7fd1X16VIvB/FTe/jPnTtXcV2hYrGI1dVVJk+PclNB/X++3qRgGsRx1af33sfv/PEfcRA/tYU/FAphampqx4ZisYh0Ot2GkGg/6untZaFr6ij+I0eO4Pjx4xU3hsPhFofTeG66g++vvI3N0V9rUkRE1A38CwsLmJycrHhjqFvmuTvtDt69dbuJ0dTP7Y2SB/drvzZIRLvzR6NRzM/PY3R01NWSG6qqIpVKIZVKVaw8n0wmIUkSDMPA5OQkBEFoQNi1c9MdvP0jw3Gx4ZZyWX0eQ02MiWif8ZcOTXIjFAqVrZZZStd1ALBX4oxGoxVvTnnNA4+vGum2+ryb5SeIqLKm3nbUNM1uaYqiiMXFxV1fv7GxgY2NDfuxVaS51Qo33sOtJ65w1UgiqqplYzZM09zzNfF4HGfPnm1+MDVwMxSIq0YS7R9NTZ6SJNld93w+by/xUU0sFsPp06ftx4VCASMjI80MsSLOXCGivdSdPDVNw+LiIlRVRSgUgiiKUBQFmUwGsixD13VomgZd15FIJHY9Vn9/P/r7++sNqSG4/IT7YV5E+0HdyVOWZSwtLZU9V3oDaXZ21n5dp+DyEw85nvXzvTdx9PdZFIS6X/f9tVPDuJ3109OFHyJE2/Xs/RIiItqOTYR95O6t27j9I8PR64VPPdPEiIg6F5PnPvL+rVvY/MEjNb/+zq1bGMGLzQuIqIMxee4jQ58R8cwJFjxhoRhqhI5KnpubmzBXbzrah11PKuVmjSWvF4qh9uio5AkAN1evIf+LuzW/nl1PKuVmjSXPF4qhtuio5NnX14eDY5/F4FEuUUve99FHH2F5ednRPpubmwDgOFkfO3YMBw4ccLQP1aejkqfXcb3y1vL6DKjl5WVo2S/j6JHaC8z8r7+5gUOHnnC0z9bU4K9hfHzcRZTkFpNng7hdr/zdGzcx5GLhMybcLa2YAeWmRCGwVabQaYGZn/zExBEXRWmo9Zg8G6TX78djHxtyfHNq/fp7zhPArXfxnNMAu1CrZkAVbryHb/Z/gO/03HG034+/9bf4Z4qjXaiDMHk2kNNxlACQv/Uujvzai46S7vr1n7rqrj64/8DRPvTQk6PPOq518L7xDgBW2+pWTJ4N5GYc5YP79x2PIMi/+y56enudD7d5nHeMiRqFybMCtzci3LTsenp7XY0gGPns847XZTJ+8COn4RFRFUyeVbhacZMtO6J9g8mzArcrbrJlR7R/sCQdEZELbHkSeYyb9bOePrTZpGioGiZPIg959lMDeG3hAZ7dfL7mfe7ceBe//aXmxUSVMXkSeUifvwfPHn8Bx/9+7Wt+3fzBmyxc0ga85klE5EJDWp7JZBKSJMEwDExOTkIQhLLtwWAQACCKIubm5nZsJyLqNHUnT13XAWwtLWwYBqLRKFKpVNlrYrEYQqFQvaci6igP7t93dfOn27gpzQd4v8xe3clT0zS7JSmKIhYXF3e8xjAMaJqGbDaLSCQCUaw8fnJjYwMbGxv240KhUG94RHVzM+MM2LqRc6n3k8htfqLmfd5+/e8g/eHTjs/lZW5K83VCmb2G3jAyTbPi87OzswCAQCCARCKxo2VqicfjOHv2bCNDwoP7D7h0B9XN6YwzAHjvvffxO3/8R44LivS2YN37VrcGnZbm6wR1v0uSJNld93w+j7GxsbLtmqbBNM2auu2xWAynT5+2HxcKBYyMjNQZYZFLd7jED54tbkvfeVm3tgZbqe7kKcsydF2HpmnQdR2JRAIAoCgKMpkMZFmGqqp2t93aXkl/fz/6+/vrDamM28IbBLj54Mlfv4knVg86PlM3Jl033f1WFrruxtZgKzWkf2B1y2X54di0bDZrf221Oku3k/e5+eBxU2IP6N7WPgtddy8OkqeGctvS78ZLBG66+27LIXJd+dZj8uxAbhKN09e3Hq9NW1yVQ6SWY/LsSC4SzQ8NPHPiC02MqT68Nr3FbTlETs9sPSbPDuQ20fT4e5sUEdH+w+RZQXd2i8nSbddWqT2YPCvqvm5xN3LzIffg3n2svvF3GOK1VaoTk2cF7BZ3CvcfckOfOdzEuGg/YPKkjsUPOWon1vMkInKByZOIyAV224maiHf2uxeTJ1GTDBx6Cq//l0uevLO/ubnJVTrrxORJ1CQ9fj+GPiPimRPenHd+adVZoWau0lmOyZNoH+rr68Nzv/UFR4WaW7lK5+a9B7h69arj/Vq5dAeTJ9Ee3AzGB9zNOnM7u23zc83vTt+/d89VQvve976H999zdongW9+6hUOH0viVR71brJnJk2hPzgfjA25nnTk/1y/fW3N4DnfW3rmFbxZv4js9dxzt98P/+230OF3L6dY9xL7k93SxZiZPoj3UU/HJ6YB8N+e688NVvPXWW4661FevXnU1UPHJ0Wcdr8n0vvEOnhQ/6Xg/4EcOX99aTJ5EHe4X797GNzfecNQi/PG3/hZDz3zc0XlauURIJ2DyJOpwD+4/cLzP4McP4ge511u2RIibtZzwGZcnaxEmT6KOV3S+VtL33sTR3/9NPPWrtXel3a5f/+DePfxQ/57jRA085vhcrcTkSdThtqrPf9bx0sg9LtaHd7V+vYtEveWGw9e3VkOSZzKZhCRJMAwDk5OTEATB0XYicq9Vi+fVs369m0TtdXV/R7quA9haVtgwDESjUaRSqZq3E1G9uHheO9SdPDVNs1uSoihicXHR0fZSGxsb2NjYsB+vr28NrC0UCgCADz74AOsr13Hvw42K+1fy8xvv4ScLl9DbX/usg827v0DPAX/T92nluby8j7UfAPQcqP1X8t4vP4T/0Uccx+fmPD29fkf71BOfm5854Px7+psfrML/aH/N+2ysb3XXe/ud/Rw++vmHOPDYI47Pdfqxj/DII7Wf68MP7+Gv/uoDFAoFO2cUi0VHsTrR0La0aZp1bY/H4zh79uyO50dGRuqIirrZ/cIvWnMet/u1KD437rYwto11ZxMMAOAXLsb+nzhxouzx3bt3MThY+ywlJ+pOnpIk2V3zfD6PsbExR9tLxWIxnD592n784MED5PN5DA8Pw+fzVd2vUChgZGQE169fx8DAQD3fTlMwPve8HBvA+OrRzNiKxSLu3r2Lp59+uqHHLVV38pRlGbquQ9M06LqORCIBAFAUBZlMpur2Svr7+9HfX960d3JzaWBgwHO/IKUYn3tejg1gfPVoVmzNanFafMVmXhRokUKhgMHBQayvr3vyF4Txuefl2ADGVw8vx1YLLsNBRORCVyTP/v5+/Pmf//mOLr9XMD73vBwbwPjq4eXYatEV3XYiolbripYnEVGrMXkSEbnA5ElE5EJXJM9kMglN05BOp/ecxdQq6XQamqYhGo3aMXklTisGK0YvxQYA0WgU6XQayWTSEz87VVWhKAoMwyh7TlVVRKNR+/l2xVgpvmAwiGAwiHA43NafYbWfnRVHu3929ej45FlaeESWZUSj0TZHtDUN1TRNyLKM4eFhLCwseCZO0zSRyWQwMzODmZkZiKLomdiArT+s4eFhzMzMQJZlxOPxtscXCoUgig8rCVkfOKFQCIqiIBqNtjXG7fEBW7P1lpaWkMlkIAhC2+LbHptpmsjlcnYc1uSZdsRWr45Pnk4Kj7SKIAiYnZ2FqqpYWVnB5OSkZ+LUNA35fN5uNVnPeSE2y9raw0nN1uw0L8UnyzJCoRCArfjGx8c9F6NhGHbPx/raC/EJggDTNBEMBpFKpTAzM+OZ2Jzq+ORZymvN/VAoBEEQsLCwUPZ8O+PM5/MQRRGhUAiRSASRSKRse7t/hlZS0jSt4h9Ru+MrZRgG1tbWMDs7W/a8F2KcnZ2FLMuYmpraMSW63fEJgoC5uTnouo5kMlm2rd2xOdHxyVOSJPsHvlfhkVZRVRXpdBrAwzn+Xolz+3kFQfBMbJZIJAJZlhEIBBAOhz0XH7CVOK1aDbqueypGTdOgqmrZc16JT1VVTE1NQZIkZLNZrKyseCY2pzo+ecqyDODhL8xuhUdapTSmTCaDVCrlmTglScLw8DBUVUUqlUIikfBMbJZUKgVVVWEYhn3ts53xWa1gKybDMKAoCuLxOILBIDRNa2uM2+MrjWV+fr6t73Gl2KwYNE2zPyjbEVu9OMOIiMiFjm95EhG1A5MnEZELTJ5ERC4weRIRucDkSUTkApMnEZELTJ7UEpqmQVEUpNNpRKNRjI6O2l8Hg8Gmnz8ajVadM20VryByoqHrthNVYxhGWZEKTdMwMzMDAGVT9EZHR7G0tORo1dRaVRt8HQqFkMvlGn4+6m5seVJLiKJYNSFKkmR/3azESdRobHlSS1hT8HbbZk17zGazME0T4XDYbi3Oz88jFovZ0yNlWbaTbjKZhCiKMAwDkiTtei6rwpAoivbUWSI3mDzJM0RRtBOiJEmQJAmCIECWZeTzeXuetq7rSKVS9hz40spGiqLsmjw1TYNpmhgbG0MgEGjJ90Xdid128pTtCa308ejoKICtSlD5fB4A7GuVmqZB07Q9i0rMzMxgbW0NwWCwY4rukjcxeZKn7XX9U1EUu2r/bi1OSzqdRiKRsEuhlS4PQeQEkye1lKZpSKVSMAxjx3o1hmHsKP2WSqVgmiay2ax9LdTa37r2aQ17UlXVbpFWY5omksmkvdzH9uUriGrFknS0L0Sj0V279HttJ9qOLU8iIheYPGlfsFa5rGT7khVEtfh/PvUDjS0rnPwAAAAASUVORK5CYII=' width=335.0/>\n",
                            "            </div>\n",
                            "        "
                        ],
                        "text/plain": [
                            "Canvas(toolbar=Toolbar(toolitems=[('Home', 'Reset original view', 'home', 'home'), ('Back', 'Back to previous …"
                        ]
                    },
                    "metadata": {},
                    "output_type": "display_data"
                }
            ],
            "source": [
                "from matplotlib import dates\n",
                "import seaborn as sns\n",
                "from matplotlib.colors import LinearSegmentedColormap\n",
                "from matplotlib import cm\n",
                "import matplotlib.lines as mlines\n",
                "\n",
                "color_palette = sns.color_palette('Set2', 120)\n",
                "\n",
                "\n",
                "fig, ax = plt.subplots(1, 1, figsize=[6.7/2, 3])\n",
                "plt.tight_layout()\n",
                "\n",
                "# bw_df_grouped_uncompressed = bw_df_grouped[['mbps']].droplevel(0, axis=1)\n",
                "# bw_df_grouped_uncompressed.columns = pd.CategoricalIndex(bw_df_grouped_uncompressed.columns.values, ordered=True, categories=sorted_topics)\n",
                "# bw_df_grouped_uncompressed = bw_df_grouped_uncompressed.sort_index(axis=1)\n",
                "# bw_df_grouped_uncompressed.plot(kind=\"bar\", stacked=True, width=1, ax=axs[0])\n",
                "# axs[0].set_xticklabels([t if not i%5 else \"\" for i,t in enumerate(axs[0].get_xticklabels())], rotation=0)\n",
                "\n",
                "bw_df_grouped_compressed = bw_df_grouped[['compressed_mbps']].droplevel(0, axis=1)\n",
                "bw_df_grouped_compressed.columns = pd.CategoricalIndex(bw_df_grouped_compressed.columns.values, ordered=True, categories=sorted_topics)\n",
                "bw_df_grouped_compressed = bw_df_grouped_compressed.sort_index(axis=1)\n",
                "bw_df_grouped_compressed = bw_df_grouped_compressed.rename(columns=column_rename)\n",
                "# bw_df_grouped_compressed[\"$agent_{0\\\\to1}$ Full Map\"] = bw_df_grouped_compressed[\"$agent_{0\\\\to1}$ Full Map\"] + bw_df_grouped_compressed[\"$agent_{0\\\\to1}$ Full Map alt\"]\n",
                "bw_df_grouped_compressed = bw_df_grouped_compressed.drop(columns=[\n",
                "    \"Merge Info\", \n",
                "    \"$agent_0$ Camera Pose\", \n",
                "    \"$agent_1$ Camera Pose\", \n",
                "    \"$agent_2$ Camera Pose\", \n",
                "    #\"$agent_{0\\\\to1}$ Full Map alt\"\n",
                "])\n",
                "\n",
                "order = [0,1,2,5,4,7,8,6,3] #apr11 tum a\n",
                "#order = [0,2,1,5,4,8,7,6,3] #apr11 mh b\n",
                "inverse_order = list(range(len(order)))\n",
                "for i, o in enumerate(order):\n",
                "    inverse_order[o] = i\n",
                "\n",
                "lightness_shift = 0.1\n",
                "colors = np.vstack((\n",
                "    shift_lightness(color_palette[0], -lightness_shift), shift_lightness(color_palette[0], 0), shift_lightness(color_palette[0], lightness_shift), \n",
                "    shift_lightness(color_palette[3], -lightness_shift), shift_lightness(color_palette[3], 0), \n",
                "    shift_lightness(color_palette[1], -lightness_shift), shift_lightness(color_palette[1], 0), shift_lightness(color_palette[1], lightness_shift), \n",
                "    shift_lightness(color_palette[5], 0)\n",
                "))\n",
                "colors = colors[inverse_order]\n",
                "cmap1 = LinearSegmentedColormap.from_list(\"my_colormap\", colors)\n",
                "\n",
                "bw_df_grouped_compressed.plot(kind=\"bar\", stacked=True, width=1, ax=ax, colormap=cmap1, edgecolor='black', linewidth=0.3)\n",
                "# bw_df_grouped_compressed.plot.area(ax=ax, colormap=cmap1)\n",
                "ax.set_xticklabels([round(float(t.get_text())) if not i%3 else \"\" for i,t in enumerate(ax.get_xticklabels())], rotation=0)\n",
                "ax.set_xticks([i for i in range(0, len(ax.get_xticks()), 3)])\n",
                "ax.set_ylabel(\"Total Bandwidth [MB/s]\")\n",
                "ax.set_xlabel(\"Time [s]\")\n",
                "\n",
                "handles, labels = plt.gca().get_legend_handles_labels()\n",
                "handles = [handles[idx] for idx in order]\n",
                "labels = [labels[idx] for idx in order]\n",
                "\n",
                "empty_handle = mlines.Line2D([], [], marker='None', linestyle='None')\n",
                "\n",
                "ax.legend([\n",
                "    empty_handle, handles[0], handles[1], handles[2],    empty_handle,    empty_handle, handles[3], handles[4], empty_handle,\n",
                "    empty_handle, handles[5], handles[6], handles[7],    empty_handle,    empty_handle, handles[8], empty_handle, empty_handle\n",
                "], [\n",
                "    \"Key Frames\", \"$agent_0$\", \"$agent_1$\", \"$agent_2$\",    \"\",    \"Full Map\", \"$agent_{0\\\\to1}$\", \"$agent_{0\\\\to2}$\", \"\",\n",
                "    \"BoWs\", \"$agent_0$\", \"$agent_1$\", \"$agent_2$\",          \"\",    \"\", \"Alignment\", \"Data\", \"\"\n",
                "], fontsize=\"xx-small\", ncol=2)\n",
                "\n",
                "fig.savefig(f'figures_output/{bag_name.split(\"/\")[-1]}_bandwith.pdf', bbox_inches='tight', dpi=300, pad_inches=0.01)"
            ]
        },
        {
            "cell_type": "code",
            "execution_count": 25,
            "metadata": {},
            "outputs": [
                {
                    "name": "stderr",
                    "output_type": "stream",
                    "text": [
                        "/tmp/ipykernel_131454/1086283592.py:3: DeprecationWarning: \n",
                        "Importing from 'rosbags.typesys.types' is deprecated.\n",
                        "Use a specific type store instead, for example:\n",
                        "from rosbags.typesys.stores.ros2_foxy import std_msgs__msg__Header\n",
                        "\n",
                        "  from rosbags.typesys.types import sensor_msgs__msg__CompressedImage, sensor_msgs__msg__CameraInfo, tf2_msgs__msg__TFMessage\n"
                    ]
                },
                {
                    "name": "stdout",
                    "output_type": "stream",
                    "text": [
                        "Saved geometry_msgs/PoseStamped topic: /robot1/camera_pose\n",
                        "Saved geometry_msgs/PoseStamped topic: /robot1/ground_truth_pose\n",
                        "Saved geometry_msgs/PoseStamped topic: /robot2/camera_pose\n",
                        "Saved geometry_msgs/PoseStamped topic: /robot2/ground_truth_pose\n",
                        "Saved geometry_msgs/PoseStamped topic: /robot3/camera_pose\n",
                        "Saved geometry_msgs/PoseStamped topic: /robot3/ground_truth_pose\n"
                    ]
                }
            ],
            "source": [
                "from rosbags.rosbag2 import Writer as Rosbag2Writer\n",
                "from rclpy.serialization import serialize_message\n",
                "from rosbags.typesys.types import sensor_msgs__msg__CompressedImage, sensor_msgs__msg__CameraInfo, tf2_msgs__msg__TFMessage\n",
                "from cv_bridge import CvBridge\n",
                "import cv2\n",
                "from sensor_msgs.msg import CameraInfo\n",
                "from geometry_msgs.msg import TransformStamped\n",
                "\n",
                "\n",
                "with Rosbag2Writer(f\"{bag_name}_processed\") as writer:\n",
                "    for agent_id in agent_ids:\n",
                "        min_timestamp = np.min(traj_ests[agent_id].timestamps.tolist() + traj_ests[agent_id].timestamps.tolist())-1000\n",
                "        traj_ests[agent_id].timestamps -= min_timestamp\n",
                "        traj_refs[agent_id].timestamps -= min_timestamp\n",
                "\n",
                "        file_interface.write_bag_trajectory(writer, traj_ests[agent_id], f\"/robot{agent_id}/camera_pose\", frame_id=\"world\")\n",
                "        file_interface.write_bag_trajectory(writer, traj_refs[agent_id], f\"/robot{agent_id}/ground_truth_pose\", frame_id=\"world\")\n"
            ]
        },
        {
            "cell_type": "markdown",
            "metadata": {},
            "source": [
                "# Multi bag anaylsis"
            ]
        },
        {
            "cell_type": "code",
            "execution_count": 26,
            "metadata": {},
            "outputs": [
                {
                    "name": "stdout",
                    "output_type": "stream",
                    "text": [
                        "[WARNING] geometry_msgs/PointStamped does not contain rotation, evo will use unit quaternion. Note that rotation metrics will be invalid and RPE will only be valid with point_distance metric.\n",
                        "[WARNING] geometry_msgs/PointStamped does not contain rotation, evo will use unit quaternion. Note that rotation metrics will be invalid and RPE will only be valid with point_distance metric.\n",
                        "[WARNING] geometry_msgs/PointStamped does not contain rotation, evo will use unit quaternion. Note that rotation metrics will be invalid and RPE will only be valid with point_distance metric.\n",
                        "[WARNING] geometry_msgs/PointStamped does not contain rotation, evo will use unit quaternion. Note that rotation metrics will be invalid and RPE will only be valid with point_distance metric.\n",
                        "[WARNING] geometry_msgs/PointStamped does not contain rotation, evo will use unit quaternion. Note that rotation metrics will be invalid and RPE will only be valid with point_distance metric.\n",
                        "[WARNING] geometry_msgs/PointStamped does not contain rotation, evo will use unit quaternion. Note that rotation metrics will be invalid and RPE will only be valid with point_distance metric.\n",
                        "[WARNING] geometry_msgs/PointStamped does not contain rotation, evo will use unit quaternion. Note that rotation metrics will be invalid and RPE will only be valid with point_distance metric.\n",
                        "[WARNING] geometry_msgs/PointStamped does not contain rotation, evo will use unit quaternion. Note that rotation metrics will be invalid and RPE will only be valid with point_distance metric.\n",
                        "[WARNING] geometry_msgs/PointStamped does not contain rotation, evo will use unit quaternion. Note that rotation metrics will be invalid and RPE will only be valid with point_distance metric.\n",
                        "[WARNING] geometry_msgs/PointStamped does not contain rotation, evo will use unit quaternion. Note that rotation metrics will be invalid and RPE will only be valid with point_distance metric.\n",
                        "[WARNING] geometry_msgs/PointStamped does not contain rotation, evo will use unit quaternion. Note that rotation metrics will be invalid and RPE will only be valid with point_distance metric.\n",
                        "[WARNING] geometry_msgs/PointStamped does not contain rotation, evo will use unit quaternion. Note that rotation metrics will be invalid and RPE will only be valid with point_distance metric.\n",
                        "[WARNING] geometry_msgs/PointStamped does not contain rotation, evo will use unit quaternion. Note that rotation metrics will be invalid and RPE will only be valid with point_distance metric.\n",
                        "[WARNING] geometry_msgs/PointStamped does not contain rotation, evo will use unit quaternion. Note that rotation metrics will be invalid and RPE will only be valid with point_distance metric.\n",
                        "[WARNING] geometry_msgs/PointStamped does not contain rotation, evo will use unit quaternion. Note that rotation metrics will be invalid and RPE will only be valid with point_distance metric.\n"
                    ]
                }
            ],
            "source": [
                "agent_ids = [1,2,3]\n",
                "\n",
                "# bag_names = [\n",
                "#     \"/home/joshuabird/Desktop/apr11_tum_room_trajectory_a\",\n",
                "#     \"/home/joshuabird/Desktop/apr20_tum_room_trajectory_c\",\n",
                "#     \"/home/joshuabird/Desktop/apr20_tum_room_trajectory_d\",\n",
                "#     \"/home/joshuabird/Desktop/apr20_tum_room_trajectory_e\",\n",
                "#     \"/home/joshuabird/Desktop/apr20_tum_room_trajectory_h\",\n",
                "# ]\n",
                "bag_names = [\n",
                "    \"/home/joshuabird/Desktop/apr11_mh_trajectory_b\",\n",
                "    \"/home/joshuabird/Desktop/apr20_mh_trajectory_d\",\n",
                "    \"/home/joshuabird/Desktop/apr20_mh_trajectory_e\",\n",
                "    \"/home/joshuabird/Desktop/apr20_mh_trajectory_f\",\n",
                "    \"/home/joshuabird/Desktop/apr20_mh_trajectory_g\",\n",
                "]\n",
                "\n",
                "bags_traj_ests = {}\n",
                "bags_traj_refs = {}\n",
                "for bag_name in bag_names:\n",
                "    with Rosbag2Reader(bag_name) as reader:\n",
                "        # Read the trajectory and ground truth for each agent\n",
                "\n",
                "        bags_traj_ests[bag_name] = {}\n",
                "        bags_traj_refs[bag_name] = {}\n",
                "\n",
                "        for agent_id in agent_ids:\n",
                "            traj_est = file_interface.read_bag_trajectory(reader, f\"/robot{agent_id}/camera_pose\", transform_to_root_tf_frame_id=\"/world\", use_final_tf_state=True)\n",
                "            traj_ref = file_interface.read_bag_trajectory(reader, f\"/robot{agent_id}/ground_truth_pose\")\n",
                "\n",
                "            traj_est.timestamps += 0.17\n",
                "\n",
                "            bags_traj_ests[bag_name][agent_id] = traj_est\n",
                "            bags_traj_refs[bag_name][agent_id] = traj_ref"
            ]
        },
        {
            "cell_type": "code",
            "execution_count": 27,
            "metadata": {},
            "outputs": [],
            "source": [
                "from evo.core.trajectory import PosePath3DElement\n",
                "\n",
                "filter_func: PosePath3DElement = lambda element: element[\"coord_frame\"] == \"robot1/origin\"\n",
                "\n",
                "# Filter to only the time range where trajectories are merged\n",
                "for bag_name in bag_names:\n",
                "    for agent_id in agent_ids:\n",
                "        bags_traj_ests[bag_name][agent_id].filter(filter_func)\n"
            ]
        },
        {
            "cell_type": "code",
            "execution_count": 28,
            "metadata": {},
            "outputs": [],
            "source": [
                "from evo.core import sync\n",
                "from evo.core.trajectory import align_multiple\n",
                "\n",
                "max_diff = 0.05\n",
                "\n",
                "for bag_name in bag_names:\n",
                "    for agent_id in agent_ids:\n",
                "        bags_traj_refs[bag_name][agent_id], bags_traj_ests[bag_name][agent_id] = sync.associate_trajectories(bags_traj_refs[bag_name][agent_id], bags_traj_ests[bag_name][agent_id], max_diff)\n",
                "    \n",
                "    align_multiple(list(bags_traj_ests[bag_name].values()), list(bags_traj_refs[bag_name].values()), correct_scale=True)"
            ]
        },
        {
            "cell_type": "code",
            "execution_count": 29,
            "metadata": {},
            "outputs": [
                {
                    "name": "stdout",
                    "output_type": "stream",
                    "text": [
                        "APE w.r.t. translation part (m)\n",
                        "(with Sim(3) Umeyama alignment)\n",
                        "\n",
                        "       max\t0.159863\n",
                        "      mean\t0.049632\n",
                        "    median\t0.040959\n",
                        "       min\t0.001061\n",
                        "      rmse\t0.059110\n",
                        "       sse\t10.551810\n",
                        "       std\t0.032104\n",
                        "\n"
                    ]
                },
                {
                    "name": "stdout",
                    "output_type": "stream",
                    "text": [
                        "APE w.r.t. translation part (m)\n",
                        "(with Sim(3) Umeyama alignment)\n",
                        "\n",
                        "       max\t0.214926\n",
                        "      mean\t0.043545\n",
                        "    median\t0.037103\n",
                        "       min\t0.003805\n",
                        "      rmse\t0.050215\n",
                        "       sse\t6.142543\n",
                        "       std\t0.025008\n",
                        "\n",
                        "APE w.r.t. translation part (m)\n",
                        "(with Sim(3) Umeyama alignment)\n",
                        "\n",
                        "       max\t0.244161\n",
                        "      mean\t0.051053\n",
                        "    median\t0.042961\n",
                        "       min\t0.005275\n",
                        "      rmse\t0.059719\n",
                        "       sse\t6.537212\n",
                        "       std\t0.030983\n",
                        "\n",
                        "APE w.r.t. translation part (m)\n",
                        "(with Sim(3) Umeyama alignment)\n",
                        "\n",
                        "       max\t0.136706\n",
                        "      mean\t0.042580\n",
                        "    median\t0.036184\n",
                        "       min\t0.000867\n",
                        "      rmse\t0.051224\n",
                        "       sse\t7.960949\n",
                        "       std\t0.028475\n",
                        "\n",
                        "APE w.r.t. translation part (m)\n",
                        "(with Sim(3) Umeyama alignment)\n",
                        "\n",
                        "       max\t0.127666\n",
                        "      mean\t0.044206\n",
                        "    median\t0.041775\n",
                        "       min\t0.003202\n",
                        "      rmse\t0.048649\n",
                        "       sse\t5.770077\n",
                        "       std\t0.020311\n",
                        "\n",
                        "APE w.r.t. translation part (m)\n",
                        "(with Sim(3) Umeyama alignment)\n",
                        "\n",
                        "       max\t0.226108\n",
                        "      mean\t0.042127\n",
                        "    median\t0.035034\n",
                        "       min\t0.001130\n",
                        "      rmse\t0.049746\n",
                        "       sse\t4.543487\n",
                        "       std\t0.026457\n",
                        "\n",
                        "APE w.r.t. translation part (m)\n",
                        "(with Sim(3) Umeyama alignment)\n",
                        "\n",
                        "       max\t0.118288\n",
                        "      mean\t0.040419\n",
                        "    median\t0.035059\n",
                        "       min\t0.001146\n",
                        "      rmse\t0.047352\n",
                        "       sse\t6.776087\n",
                        "       std\t0.024668\n",
                        "\n",
                        "APE w.r.t. translation part (m)\n",
                        "(with Sim(3) Umeyama alignment)\n",
                        "\n",
                        "       max\t0.114676\n",
                        "      mean\t0.038784\n",
                        "    median\t0.035662\n",
                        "       min\t0.004560\n",
                        "      rmse\t0.042469\n",
                        "       sse\t4.386471\n",
                        "       std\t0.017304\n",
                        "\n",
                        "APE w.r.t. translation part (m)\n",
                        "(with Sim(3) Umeyama alignment)\n",
                        "\n",
                        "       max\t0.260976\n",
                        "      mean\t0.049476\n",
                        "    median\t0.043580\n",
                        "       min\t0.002737\n",
                        "      rmse\t0.056500\n",
                        "       sse\t5.825883\n",
                        "       std\t0.027284\n",
                        "\n",
                        "APE w.r.t. translation part (m)\n",
                        "(with Sim(3) Umeyama alignment)\n",
                        "\n",
                        "       max\t0.127579\n",
                        "      mean\t0.044236\n",
                        "    median\t0.036494\n",
                        "       min\t0.001694\n",
                        "      rmse\t0.052286\n",
                        "       sse\t8.250790\n",
                        "       std\t0.027875\n",
                        "\n",
                        "APE w.r.t. translation part (m)\n",
                        "(with Sim(3) Umeyama alignment)\n",
                        "\n",
                        "       max\t0.129514\n",
                        "      mean\t0.042408\n",
                        "    median\t0.039267\n",
                        "       min\t0.002651\n",
                        "      rmse\t0.047537\n",
                        "       sse\t5.504773\n",
                        "       std\t0.021477\n",
                        "\n",
                        "APE w.r.t. translation part (m)\n",
                        "(with Sim(3) Umeyama alignment)\n",
                        "\n",
                        "       max\t0.264178\n",
                        "      mean\t0.050805\n",
                        "    median\t0.041583\n",
                        "       min\t0.002927\n",
                        "      rmse\t0.058261\n",
                        "       sse\t6.208359\n",
                        "       std\t0.028518\n",
                        "\n",
                        "APE w.r.t. translation part (m)\n",
                        "(with Sim(3) Umeyama alignment)\n",
                        "\n",
                        "       max\t0.121372\n",
                        "      mean\t0.042579\n",
                        "    median\t0.036307\n",
                        "       min\t0.003155\n",
                        "      rmse\t0.050033\n",
                        "       sse\t7.567600\n",
                        "       std\t0.026274\n",
                        "\n",
                        "APE w.r.t. translation part (m)\n",
                        "(with Sim(3) Umeyama alignment)\n",
                        "\n",
                        "       max\t0.128244\n",
                        "      mean\t0.039461\n",
                        "    median\t0.036709\n",
                        "       min\t0.002031\n",
                        "      rmse\t0.043929\n",
                        "       sse\t4.698990\n",
                        "       std\t0.019304\n",
                        "\n",
                        "APE w.r.t. translation part (m)\n",
                        "(with Sim(3) Umeyama alignment)\n",
                        "\n",
                        "       max\t0.270240\n",
                        "      mean\t0.059744\n",
                        "    median\t0.058777\n",
                        "       min\t0.002139\n",
                        "      rmse\t0.069167\n",
                        "       sse\t8.754836\n",
                        "       std\t0.034853\n",
                        "\n",
                        "[0.05645536963294857, 0.05000617574747217, 0.04831042895310831, 0.05235615909630396, 0.05370650792303484]\n"
                    ]
                }
            ],
            "source": [
                "import evo.main_ape as main_ape\n",
                "import evo.common_ape_rpe as common\n",
                "\n",
                "results = []\n",
                "bag_RMSEs = []\n",
                "\n",
                "agent1_RMSEs = []\n",
                "agent2_RMSEs = []\n",
                "agent3_RMSEs = []\n",
                "\n",
                "for bag_name in bag_names:\n",
                "    for agent_id in agent_ids:\n",
                "        result = main_ape.ape(bags_traj_refs[bag_name][agent_id], bags_traj_ests[bag_name][agent_id],\n",
                "                                pose_relation=PoseRelation.translation_part, align=True, correct_scale=True)\n",
                "        results.append(result)\n",
                "        \n",
                "        if agent_id == 1:\n",
                "            agent1_RMSEs.append(np.sqrt(np.mean(result.np_arrays['error_array']**2)))\n",
                "        elif agent_id == 2:\n",
                "            agent2_RMSEs.append(np.sqrt(np.mean(result.np_arrays['error_array']**2)))\n",
                "        elif agent_id == 3:\n",
                "            agent3_RMSEs.append(np.sqrt(np.mean(result.np_arrays['error_array']**2)))\n",
                "\n",
                "\n",
                "    bag_RMSE = np.sqrt(np.mean(np.concatenate([result.np_arrays['error_array'] for result in results[-3:]])**2))\n",
                "    bag_RMSEs.append(bag_RMSE)\n",
                "    \n",
                "print(bag_RMSEs)\n"
            ]
        },
        {
            "cell_type": "code",
            "execution_count": 30,
            "metadata": {},
            "outputs": [
                {
                    "data": {
                        "text/plain": [
                            "0.05122413580525796"
                        ]
                    },
                    "execution_count": 30,
                    "metadata": {},
                    "output_type": "execute_result"
                }
            ],
            "source": [
                "np.median(agent1_RMSEs)"
            ]
        },
        {
            "cell_type": "code",
            "execution_count": 31,
            "metadata": {},
            "outputs": [],
            "source": [
                "import pandas as pd\n",
                "import sys\n",
                "import zlib\n",
                "\n",
                "bags_bw_df = pd.DataFrame(columns=[\"timestamp\", \"topic\", \"msg_size\", \"bag_name\"])\n",
                "\n",
                "robot_names = [f\"robot{agent_id}\" for agent_id in agent_ids]\n",
                "\n",
                "topics = (\n",
                "    # [f'/{robot_name}/ground_truth_pose' for robot_name in robot_names] +\n",
                "    [f'/{robot_name}/camera_pose' for robot_name in robot_names] +\n",
                "    # [f'/{robot_name}/camera_pose_marker' for robot_name in robot_names] +\n",
                "    [f'/{robot_name}/successfully_merged' for robot_name in robot_names] +\n",
                "    # [\"/sim3_transform\"] +\n",
                "    [\"/successfully_merged\"] +\n",
                "    # [f'/{robot_name}/all_points' for robot_name in robot_names] +\n",
                "    # [f'/{robot_name}/kf_markers' for robot_name in robot_names] +\n",
                "    # [f'/{robot_name}/tracked_points' for robot_name in robot_names] +\n",
                "    [f'/{robot_name}/new_key_frames' for robot_name in robot_names] +\n",
                "    [f'/{robot_name}/new_key_frame_bows' for robot_name in robot_names] +\n",
                "    [f'/{robot_name}/get_current_map/_service_event' for robot_name in robot_names] +\n",
                "    [f'/{robot_name}/get_map_points/_service_event' for robot_name in robot_names] +\n",
                "    [f'/{robot_name}/map_to_attempt_merge' for robot_name in robot_names]\n",
                ")\n",
                "\n",
                "data = []\n",
                "\n",
                "for bag_name in bag_names:\n",
                "    with Rosbag2Reader(bag_name) as reader:\n",
                "\n",
                "        connections = [c for c in reader.connections if c.topic in topics]\n",
                "        for connection, timestamp, rawdata in reader.messages(connections=connections):\n",
                "            data.append({\"bag_name\": bag_name, \"timestamp\": timestamp, \"topic\": connection.topic, \"msg_size\": sys.getsizeof(rawdata),  \"compressed_msg_size\": sys.getsizeof(zlib.compress(rawdata))})\n",
                "        \n",
                "bags_bw_df = pd.DataFrame(data)\n",
                "bags_bw_df[\"timestamp\"] = pd.to_datetime(bags_bw_df[\"timestamp\"], unit='ns')"
            ]
        },
        {
            "cell_type": "code",
            "execution_count": 74,
            "metadata": {},
            "outputs": [],
            "source": [
                "bow_msg_sizes = bags_bw_df[bags_bw_df[\"topic\"].str.contains(\"new_key_frame_bows\")][\"compressed_msg_size\"] / 1e3 /5\n",
                "kf_msg_sizes = bags_bw_df[bags_bw_df[\"topic\"].str.contains(\"new_key_frames\")][\"compressed_msg_size\"] / 1e3 /5"
            ]
        },
        {
            "cell_type": "code",
            "execution_count": 92,
            "metadata": {},
            "outputs": [
                {
                    "data": {
                        "application/vnd.jupyter.widget-view+json": {
                            "model_id": "c7fc28f9e392450395c61031f57a11a9",
                            "version_major": 2,
                            "version_minor": 0
                        },
                        "image/png": "[encoded data removed]",
                        "text/html": [
                            "\n",
                            "            <div style=\"display: inline-block;\">\n",
                            "                <div class=\"jupyter-widgets widget-label\" style=\"text-align: center;\">\n",
                            "                    Figure\n",
                            "                </div>\n",
                            "                <img src='data:image/png;base64,iVBORw0KGgoAAAANSUhEUgAAAp4AAAB4CAYAAABb9PIlAAAAOXRFWHRTb2Z0d2FyZQBNYXRwbG90bGliIHZlcnNpb24zLjguNCwgaHR0cHM6Ly9tYXRwbG90bGliLm9yZy8fJSN1AAAACXBIWXMAAA9hAAAPYQGoP6dpAAAOjElEQVR4nO3dwWvbaP7H8U9Ld3NqRnHpUtoGBhUG5jIsSspeB0a+di9y8xdEotceou1lh84lyLDnYvcvSK3L9LRgzV+QRAy9DAz4YaC0lB0ihHNYuofmd0ilxo6Tur+JJSd9v6Bg2Yr09ZdE/vR5JOvSwcHBgQAAAIAZu1x3AQAAAPg8EDwBAABQCYInAAAAKkHwBAAAQCUIngAAAKgEwRMAAACVIHgCAACgEgRPAAAAVILgCQAAgEoQPAEAAFAJgicAAAAqQfAEAABAJQieAAAAqATBEwAAAJUgeAIAAKASBE8AAABUguAJAACAShA8AQAAUIkrdRdwmnfv3un169e6evWqLl26VHc5AAAAF9bBwYH29/d18+ZNXb48m7HJuQ6er1+/1vLyct1lAAAAfDZevnyp27dvz2Tbcx08r169KumwAYuLizVXAwAAcHENh0MtLy+X+WsW5jp4FtPri4uLBE8AAIAKzPL0Ri4uAgAAQCUIngAAAKjEXE+1A0BV/r7W0pvs91pr2HvzH1278Zdaa7hobjSu68etXt1lAHiP4AkAkt5kv+uv//RrreHf//hX7TVcND//0K27BABHMNUOAACAShA8AQAAUAmCJwAAACpB8MTMPXjwoO4SAAA4ty7S5yjBEzP36tWruksAAODcukifowRPAAAAVOKKJBljFASBbNtWs9lUlmXqdDr66aefZFlWzSUCAADgIrgiqQyctm3L8zxJkuu6MsbIcZxaCwQAAMDFcGyqPc9ztdtt2bat4XColZUVdbtdhWEoSQqCQEmSlMvGGK2srCiOY8VxrCAIFMexut2ukiQptxuGoeI4VrvdPrGYt2/fajgcjvwDAADAxTBy56J+v68sy7S3tydJ+vbbbyVJvv/hThpRFCnLMqVpKmOMbNuWdDhCalmWwjBUp9NRnudaX1+X67pl2LRtW9vb20rTdOJI6ubmph4/fjyTN4r6vHjxQvfu3au7DOBUv/3yq/5adxE4c7/98ivHH5x7L168qLuEMzMSPJvNpjzPU57n5XONRqN8bIxRp9Mpzwct1ms0GuW5oEUQHXf37l05jnPq1P2jR4/08OHDcnk4HGp5eflT3xPmzDfffKPnz5/XXQZwqr81v627BMzAl19/xfEH595F+s9TeXHR9va2BoOBHMcpw6MxRsYYJUki13XLoGmMkSRtbW3JsiwZY5Sm6cjPFCOieZ5rY2OjnJrPskz379+feNHSwsKCFhYWZv2eAQAAUIPy4qJer3fsRdu2NRgMyuWjI5au65bPH12neHz0QiXpcIoeAAAAny++xxMAAACVIHgCAACgEgRPzNytW7fqLgEAgHPrIn2OEjwxc0+ePKm7BAAAzq2L9DlK8AQAAEAlCJ4AAACoBMETAAAAlSB4AgAAoBJXPr4KAFx8NxrX9fMP3Vpr+NPwv7XXcNHcaFyvuwQARxA8AUDSj1vH794GADhbTLUDAACgEgRPAAAAVILgCQAAgEoQPAEAAFAJgicAAAAqQfAEAABAJQieAAAAqATBEwAAAJXgC+TH/H2tpTfZ71Otu/fmP7p24y8zruiPu9G4zpdjAwCA2hE8x7zJftdf/+lPte6///GvqdetE7fgAwAA84CpdgAAAFSC4AkAAIBKEDwBAABQCYInAAAAKkHwHPPbL7/WXQLO0IMHD+ouAQAAvEfwHPO/t/+ruwScoVevXtVdAgAAeO9ymqa6c+eO4jiWJCVJoqWlJaVpWi43m00ZYz5pw8XPAQAAAJJ02XEceZ6nLMskSa7rqtFolCvYtq0oimTb9idt2HXdMy0UAAAA59sVSQqCQK1WS77vK45jdTodbW5uqtfrKU1TeZ4nSWq327JtW1mWyXVd5Xmu9fV1BUGgwWCgKIrKdY5K01TGGFmWpTRNtbGxMbGYt2/f6u3bt+XycDic1fsGAABAxa5Ih6OajUajnE53XVdBECjP83LFdrstx3HKkcxms6l+vy9J8v3Du/d0u11ZllUG1U6nI0kyxmhra0tra2vlupNsbm7q8ePHZ/wW8dsvv+revXt1l1GLFy9e1F0CAAB4r7xlZhAECoKgDIvFKGiv9+Ee30eDaDE1f3Ra/iS2bevp06dKkkRhGJb7GPfo0SM9fPiwXB4Oh1peXv60d4Rjvvz6Kz1//rzuMmrxuQZuAADmUXlVu+d5siyrnCb3fV+2bcuyLEnSxsaGjDGK41jtdltPnz6VMUbGGCVJUv7MYDBQkiSK43jk9WfPnknSqRccLSwsaHFxceQfAAAALoYrRxeOjm5alnVsZHLSuZmDwWBkOYqi8nEx5X7SOZ0AAAD4fPA9ngAAAKgEwRMAAACVIHiO+fPCn+suAWfo1q1bdZcAAADeI3iO+fLrr+ouAWfoyZMndZcAAADeI3gCAACgEgRPAAAAVILgCQAAgEoQPAEAAFCJKx9f5fNyo3FdP//QnWrdPw3/O/W6dbrRuF53CQAAAATPcT9u9T6+EgAAAD4ZU+0AAACoBMETAAAAlZjrqfaDgwNJ0nA4rLkSAACAi63IW0X+moW5Dp77+/uSpOXl5ZorAQAA+Dzs7+/riy++mMm2Lx3MMtb+Qe/evdPr16919epVXbp06djrw+FQy8vLevnypRYXF2uo8HygT9OhT9OjV9OhT9OhT9OjV9OhT9MZ79PBwYH29/d18+ZNXb48m7Mx53rE8/Lly7p9+/ZH11tcXOQXawr0aTr0aXr0ajr0aTr0aXr0ajr0aTpH+zSrkc4CFxcBAACgEgRPAAAAVOJcB8+FhQV9//33WlhYqLuUuUafpkOfpkevpkOfpkOfpkevpkOfplNHn+b64iIAAABcHOd6xBMAAADnB8ETAAAAlSB4AgAAoBLnNni2220lSaJut6s8z+suZ+7Ecaw4jhWGoYwxkujZaZrNZvmYPh1X9KPb7SpJEkn06SRxHJd94W/vgziO1Ww2y55Ik/tCryb3imP6cZP6VOCY/sGkPtV5TD+XwTNNU0mS67pyXVdhGNZc0Xwpfok8z1Oz2VQYhvTsFHEcl4/p03F5nqvX68n3ffm+L9u26dMJ8jzX9vZ22ZckSejVe57nybbtcnlSX+jVofFecUyfbLxPBY7po8b7VPcx/VwGzyRJZFmWJMm2be3s7NRb0JxxXVee50k6/KO7e/cuPTtBkiRyXXdkmT6NSpJEWZaVoy3Fc/TpOMuylOe5VlZW1Ol05Ps+vTrBpL7Qq8k4pk+PY/rH1X1MP5fB86jPcdh8WsYY7e3taWNjY+R5enYoTVPZtl3+sY2jT4eyLJNt2/I8T0EQKAiCkdfp0yjLsvT06VOlaap2uz3yGr2abFJf6NVxHNNPxzF9OnUf089l8HQcp2xMlmVaXV2tt6A5ZIxRmqaKokhpmtKzE6RpqjiOZYxRHMf0aYLxHliWRZ9OEMex1tbW5DiO+v2+BoMBvTrBpL7Qq5NxTJ8Ox/SPq/uYfi6DZzGMniSJ4jhWFEU1VzRfjDFqNpva3NzUysrKyNQDPfvAcRx5nifLspRlmSR+tyZxHEfXrl1THMfqdDqKoog+naA4r7O4wCgIAnr1XpIk2tnZKUPBpL7Qq0PjveKYPtl4nzimTzapT3Ue07lzEQAAACpxLkc8AQAAcP4QPAEAAFAJgicAAAAqQfAEAABAJQieAAAAqATBEwAAAJUgeAKYS8YYtVot3blzZ+JrS0tLCsNwbu9GEsex2u224jguH5+1MAwVhuFIr4r7ektSq9VSq9VSmqYj63S7XXW7XYVhqG63W9bbbDbPvEYAOOpK3QUAwCS2bSsIAvV6PcVxXN6rWvpwa7xHjx6deHu8OhljtL29XX4Jc5qm6vf75et37tzR7u7umdRe7GNtbU3Shy/MTtNUzWZTvu+X6wZBUN5DvrC0tKTV1VV5nqft7e0/XA8AnIYRTwBzrQhLR81j2ByXpmn52HEctVqtcvmsQudp+zbGjATMkzQajZnVAQDjGPEEMNds25Yk5Xkuy7JGbhd4VLvdlm3b5S3hbNtWkiSybVu9Xk+dTkfGmGPPFT/rOI56vZ7CMCz3WWxze3tbd+/eVZZl8n3/2L7G67FtW5ZlaWlpSffv3x+5dWZx+8N+v1+OhLZaLUVRJMdxFEXRR7d/mjRN1Wq1tLu7O/H1PM+VJInyPC9HZR3HmXr7APBHEDwBzL0gCNTtdrWxsTHxnM44jrW3t6eNjQ1JUrPZVKvVUp7nWl1dLUf1isB19DnpcATVdV01Gg2FYaherydjjPr9fjlFXoTOSfuaFAyLbSRJovX1dQVBIN/3Zdv2SNDrdDpK01RZlimKoqm3P0kx0hmGoVqt1sj0/vh7lVQGXdd1z8UoMoDzj6l2AHPP8zxtbW0pz/NyNPKo4tzEJEmUJImiKJLv+9rb29PKyorCMJSkic8Vut2udnZ2yuWjI639fl+rq6sn7mucMaas1fd97e7uqtfrla8XodfzPOV5rlarpV6vV45Cfmz7J3EcR57nlVPsxYVDJylGZsd7AQCzQvAEMNeyLJMkra6uanNzc+K0cLPZVJ7ncl23HM3rdruKokiDwUCO48gYM/G5JEm0u7sr3/fluq7yPC/Pz2y1WtrZ2VGn0yn3O2lf44wxevbs2chzJ40orq+vK4oi2batZ8+eTbX9aRSnDXzsqn9jzMRvDgCAWWCqHcBcMsao0+mo0WgoiiIFQVB+VVAcx2WQLAJjmqbqdrtqNBqyLEt5npfnSl67dk22bU98TjoMt8W2Lcsqz60sAulRk/Y1rtFolOtI0mAwKEcujTHa2dlRHMfleZzS4fmkg8FAvu9/dPuTerW1taU0TctzYC3Lkm3b+u6778pgW5znerSuRqNRTusDwKxdOjg4OKi7CACYR+Pfa9nr9ebqXMgwDD9pKr7q7QHAOEY8AWCCdrutTqdTjooWo5CMDgLA/x/BEwAm8DxPSZKUFwJN+72YVWo2m2c2ShnH8RlUBACn+z9HKlT9c7eHPQAAAABJRU5ErkJggg==' width=670.0/>\n",
                            "            </div>\n",
                            "        "
                        ],
                        "text/plain": [
                            "Canvas(toolbar=Toolbar(toolitems=[('Home', 'Reset original view', 'home', 'home'), ('Back', 'Back to previous …"
                        ]
                    },
                    "metadata": {},
                    "output_type": "display_data"
                }
            ],
            "source": [
                "# plot horisontal violin chart with error bars for 2 standard deviations for bow and kf msg size\n",
                "fig, ax = plt.subplots(1, 1, figsize=[6.7, 1.2])\n",
                "plt.tight_layout()\n",
                "\n",
                "bow_mean = bow_msg_sizes.mean()\n",
                "kf_mean = kf_msg_sizes.mean()\n",
                "\n",
                "bow_std = bow_msg_sizes.std()\n",
                "kf_std = kf_msg_sizes.std()\n",
                "\n",
                "#  box chart\n",
                "ax.boxplot([bow_msg_sizes, kf_msg_sizes], positions=[0, 1], widths=.7, patch_artist=True, showfliers=False, medianprops=dict(color='black', linewidth=.5), vert=False, boxprops=dict(facecolor=color_palette[0], color='black', linewidth=.5), whiskerprops=dict(color='black', linewidth=.5), capprops=dict(color='black', linewidth=.5))\n",
                "ax.set_yticks([0, 1])\n",
                "ax.set_yticklabels([\"Bag of Words\", \"Key Frame\"])\n",
                "ax.set_xlabel(\"Message Size [KB]\")\n",
                "\n",
                "fig.savefig(f'figures_output/{bag_name.split(\"/\")[-1]}_kf_vs_bow_msg_size.pdf', bbox_inches='tight', dpi=300, pad_inches=0.01)"
            ]
        },
        {
            "cell_type": "code",
            "execution_count": 54,
            "metadata": {},
            "outputs": [
                {
                    "data": {
                        "text/plain": [
                            "0.09181766400000001"
                        ]
                    },
                    "execution_count": 54,
                    "metadata": {},
                    "output_type": "execute_result"
                }
            ],
            "source": [
                "bow_msg_sizes.mean()"
            ]
        },
        {
            "cell_type": "code",
            "execution_count": 42,
            "metadata": {},
            "outputs": [
                {
                    "data": {
                        "text/plain": [
                            "0.008988010683334562"
                        ]
                    },
                    "execution_count": 42,
                    "metadata": {},
                    "output_type": "execute_result"
                }
            ],
            "source": [
                "kf_sem"
            ]
        },
        {
            "cell_type": "code",
            "execution_count": 34,
            "metadata": {},
            "outputs": [
                {
                    "data": {
                        "text/plain": [
                            "msg_size               1.325699e+07\n",
                            "compressed_msg_size    6.156423e+06\n",
                            "dtype: float64"
                        ]
                    },
                    "execution_count": 34,
                    "metadata": {},
                    "output_type": "execute_result"
                }
            ],
            "source": [
                "bags_bw_df[bags_bw_df[\"topic\"].str.contains(\"get_current_map\") | bags_bw_df[\"topic\"].str.contains(\"map_to_attempt_merge\")].mean(numeric_only=True)"
            ]
        },
        {
            "cell_type": "code",
            "execution_count": 35,
            "metadata": {},
            "outputs": [],
            "source": [
                "from datetime import timedelta\n",
                "\n",
                "# runtime = 141\n",
                "runtime = 184\n",
                "bags_bandwidth = (bags_bw_df.drop(columns=[\"timestamp\"]).groupby(\"bag_name\").sum()[\"compressed_msg_size\"] / 1e6 / runtime).tolist()"
            ]
        },
        {
            "cell_type": "code",
            "execution_count": 36,
            "metadata": {},
            "outputs": [
                {
                    "data": {
                        "text/plain": [
                            "[1.3384914347826087,\n",
                            " 1.308318081521739,\n",
                            " 1.290579679347826,\n",
                            " 1.3121710923913044,\n",
                            " 1.2234962228260868]"
                        ]
                    },
                    "execution_count": 36,
                    "metadata": {},
                    "output_type": "execute_result"
                }
            ],
            "source": [
                "bags_bandwidth"
            ]
        },
        {
            "cell_type": "code",
            "execution_count": 37,
            "metadata": {},
            "outputs": [
                {
                    "data": {
                        "application/vnd.jupyter.widget-view+json": {
                            "model_id": "7afe8fb0aa8949819638170d4894eb0d",
                            "version_major": 2,
                            "version_minor": 0
                        },
                        "image/png": "[encoded data removed]",
                        "text/html": [
                            "\n",
                            "            <div style=\"display: inline-block;\">\n",
                            "                <div class=\"jupyter-widgets widget-label\" style=\"text-align: center;\">\n",
                            "                    Figure\n",
                            "                </div>\n",
                            "                <img src='data:image/png;base64,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' width=670.0/>\n",
                            "            </div>\n",
                            "        "
                        ],
                        "text/plain": [
                            "Canvas(toolbar=Toolbar(toolitems=[('Home', 'Reset original view', 'home', 'home'), ('Back', 'Back to previous …"
                        ]
                    },
                    "metadata": {},
                    "output_type": "display_data"
                }
            ],
            "source": [
                "import seaborn as sns\n",
                "color_palette = sns.color_palette('Set2', 120)\n",
                "\n",
                "fig, axs = plt.subplots(2, 1, figsize=[6.7, 1.5])\n",
                "plt.tight_layout()\n",
                "fig.subplots_adjust(hspace=1.6)\n",
                "\n",
                "axs[0].barh(1, np.median(bag_RMSEs), color=color_palette[0], edgecolor='black', linewidth=0.5)\n",
                "#axs[0].errorbar(np.median(bag_RMSEs), 1, xerr=[[np.median(bag_RMSEs)-np.min(bag_RMSEs)], [np.max(bag_RMSEs)-np.median(bag_RMSEs)]], fmt='none', capsize=5, ecolor=\"black\", capthick=1.5)\n",
                "axs[0].plot(bag_RMSEs, np.ones(len(bag_RMSEs)), 'x', color=\"black\", markersize=6)\n",
                "axs[0].set_xlabel(\"RMS Absolute Trajectory Error [m]\")\n",
                "axs[0].set_yticks([])\n",
                "axs[0].set_ylim([0.5, 1.5])\n",
                "axs[0].spines['top'].set_visible(False)\n",
                "axs[0].spines['right'].set_visible(False)\n",
                "\n",
                "# do the same thing for bags_bandwidth\n",
                "axs[1].barh(1, np.median(bags_bandwidth), color=color_palette[0], edgecolor='black', linewidth=0.5)\n",
                "axs[1].plot(bags_bandwidth, np.ones(len(bags_bandwidth)), 'x', color=\"black\", markersize=6)\n",
                "axs[1].set_xlabel(\"Total System Data Transfer [MB/s]\")\n",
                "axs[1].set_yticks([])\n",
                "axs[1].set_ylim([0.5, 1.5])\n",
                "axs[1].spines['top'].set_visible(False)\n",
                "axs[1].spines['right'].set_visible(False)\n",
                "\n",
                "plt.show()\n",
                "\n",
                "fig.savefig(f'figures_output/comparison_{bag_names[0].split(\"/\")[-1]}.pdf', bbox_inches='tight', dpi=300, pad_inches=0.01)"
            ]
        },
        {
            "cell_type": "code",
            "execution_count": 38,
            "metadata": {},
            "outputs": [
                {
                    "data": {
                        "application/vnd.jupyter.widget-view+json": {
                            "model_id": "88155d58decf404480acfa433a11aa3d",
                            "version_major": 2,
                            "version_minor": 0
                        },
                        "image/png": "[encoded data removed]",
                        "text/html": [
                            "\n",
                            "            <div style=\"display: inline-block;\">\n",
                            "                <div class=\"jupyter-widgets widget-label\" style=\"text-align: center;\">\n",
                            "                    Figure\n",
                            "                </div>\n",
                            "                <img src='data:image/png;base64,iVBORw0KGgoAAAANSUhEUgAAAp4AAACWCAYAAAB3uojXAAAAOXRFWHRTb2Z0d2FyZQBNYXRwbG90bGliIHZlcnNpb24zLjguNCwgaHR0cHM6Ly9tYXRwbG90bGliLm9yZy8fJSN1AAAACXBIWXMAAA9hAAAPYQGoP6dpAAAfu0lEQVR4nO3dz08jSZo38K+RJU5dGDMrrVqDBEnNZQ6vwMA/UKS7jisVadDuubCLyx5KhV2ew45qD2Oni9NeChvOuw1OkPYITtBKq/fSQNr3btKWStMaaYa0yX7flVj1dr4H3szBkLbTFP6Fvx8JyXZkmIfEBJEZEU/4LMuyQERERETUYSO9DoCIiIiIhgM7nkRERETUFex4EhEREVFXsONJRERERF3BjicRERERdQU7nkRERETUFex4EhG1oVKp9DoEIqKBxY4nEVEb4vE4TNPsdRhERAOJHU8iojbEYjGcnZ3BNE2YponNzc1eh0RENDB83LmIiMi758+fQxAE53m5XMb333/fw4iIiAaHv9cBEBENknw+j7m5Oed5sVjsYTRERIOFQ+1ERG0wDAMvX75EqVRCsVhEtVrtdUhERAODHU8iojYUi0UcHh7i8vISc3NzqNVqvQ6JiGhgsONJRNQGe36nz+cDcHMHlIiIvOEcTyKiNlxcXCCZTAK4me85MzPT44iIiAaH7/3793Wr2i3Lgs/nQyqV6lVMRER9xTRNPHv2zHm+v7+P09NThMNhLC0t9TAyIqLB4ppOaX9/H8vLy72Ih4io76yurkKWZUxNTaFUKmF2drbXIRERDSRnjuftbeCadTozmQxUVUUul3OdVO9WriiK85qu648WPBFRNywsLKBWq8E0Taiqikql4nzZw+5ERNSaf3V1FZZloVwu4/T0tOnBmqYBAERRhK7rSCQSyGazTctlWcbp6SlkWYau61BVFdFo1FNwv/zyC3788Ud89dVXzkR+IiLgZlrQTz/9hK+//hojI51dJylJEmRZBgCcnZ3h4uIC9mDR+fn5wE1NYttKRG660a760+k0ANR1IBtRVRWBQADAzcrOs7OzluWBQAC1Wg3z8/MQRdFpvN1cX1/j+vraef7HP/4Rv/3tb9v8kYhomHz+/Bm//vWvO/o9pqensbW1BeAmndLtBPLlcrmj37sTfvzxR0xOTvY6DCLqU51sV/3T09MAgN/97ndtVWyVu+52eSAQwPb2NhKJBDKZDOLxuGudVCqFDx8+3Hv98+fPdRP7iYhM08Tk5CS++uqrrn7f253OSqUCuw0dJPY5Y9tKRLd1o1317+zsAAAKhQJ2d3ebHhwKhZzhdMMwsLCw0LJcURSsrq4iFAqhUCggFos1fP9kMom3b986z+0T8OzZMzaOROSq20PF6+vriEajeP/+PUKhECYmJvDu3buuxvCl7HPGtpWI3HSyXfXb85RcFrffI4oiNE2DqqrQNM0ZNg+Hw8jn8w3L7UVFgUCgacdzdHQUo6Ojj/BjERF1hiRJEAQBFxcXODw8xP7+vutx33zzDebn550UdW6Yvo6Iho2TTunq6gpjY2O9jqeOaZoYGxvD1dUVr8p7LPIPf4/LKndosU2MB5H/13/rdRhDrVftw/b2Nq6urvCXv/wF6XQam5ubrnc8vaal60X6uoecu79bjeBPxp87HNng+Nvg3+Dfd/O9DoPoUXWjXfWXSiUEAgFks1ledVNDl1UD//gp0+sw+sa/rLvPU6anTxRFqKqKd+/eYXt7u+FoUaPOZKVSwdTUVMvj+s2fjD9j9p+8ZSQZBqV/zvU6BKKB5P/DH/4A4GZlJjueRETNTU9PY21tDQCwtrYG0zRb1nkK80KJiB6Df29vD8BgpgQhIuo2O4m8YdxMPfGyMNPrvFAioqfObz+4nRIkmUzy7idRh3He7H2DMHc2Ho9jfn7eee5lYaau6ygWi5AkCQAv9IloePnfv38P4GbpvL3CUhTFHodF9PRx3ux9gzB3NhwO183LXFlZaVnH67xQIqKnztm5iIiIWvP5fDg5OUEwGGy6MNM0TWdV6N15oUREw8rf+hAiIrLZQ+32XctGCzMLhQJOT0/x/PlzrKysMCUcERHY8SQiaks+n/e0V/vy8jKWl5dRLpeRzWZhGAbC4TBevHjRrVCJiPoOO55ERG243ekslUrQdb3pfu3T09PY2NgAABwfH+P9+/f41a9+BUmS6vJ5EhENA3Y8iYjaUC6XkUgk4PP5UK1WMT4+jlevXnmqu7S0hKWlJVxdXWFvbw+6rmNxcdFzfSKiQceOJxFRG2RZRjKZxNnZGURRhK7rbb/H2NiYs8iIqZWIaJiMmKYJ0zSxubnZ61iIiPpeJBLB3NwcfD4fpqen4fP5Gh5bKpVQKpUA3KxyX19fv9fWNhumJyJ6avy3ExpzCzciouY0TUO5XIZlWXjz5g2q1arrgqHt7W0kEglMTExAlmUcHR0hEAjgu+++w/r6Oj59+tSD6ImIest/dHQEACgWiz0OhYio/9kLhQBAEAQIguB63MXFhbOt5vv375FIJJy7m/bGHUREw2YkmUzi5OSkbqUmERG5q1QqzuOlpaWGQ+UzMzPO48XFxbrjbpcREQ2TEUEQcHR0hJ2dnV7HQkTU9+LxOEzTbHnc7bmf4+PjDcuIiIaJ315Zub+/76lCJpNBKBSCrutYWVlBIBBoWa6qqrPyUxAE7gVPRAMrFovh7OwMCwsLAIBcLuc6Pz6dTqNQKAAAarUastksAMCyLJTLZbx+/bp7QRMR9QknnZKXK3BN0wDASSGSSCScxrRRuSzLyOfzznEPST1CRNQvYrGYM1RudyLdOp6hUAjRaNT1PW63m0REw8R/cHCA09NTTExMtDxYVVXnDqcgCDg7O2tZrqoqDMOAoig4PT1FLBZr+P7X19e4vr52nnsZziIi6qa7W2Y2Wpgpy3LD+Z+NFiTdpigKstksstms6/GtRp+IiPrRyHfffYeFhYW2UynVajVP5YZhQBAESJKEWCzWtOOZSqUwNjbmfE1OTrYVExFRJywuLmJzc9N1IWajhZnNLua9XOhLktSwg3p7dEkURSQSiZbvR0TUD0bS6TSWl5c9HRwKheo6lPYcp2bld49pdlWeTCZxdXXlfH3+/NnzD0JE1ClLS0t49+6da77ORiMzqVQK9gYdd79yudwXxdNq9Omu6+vrezEQEfVCW1tmiqIITdOgqio0TYMsywCAcDiMfD7vWm4vLrKH2u06bkZHRzE6OvplPxER0SN7/vx5w7K9vT3XhULZbBaqqgK4mQsK3MylbzYv9CFajT4BN53gDx8+PMr3o8cT+Ye/x2XV6HUYfWViPIj8v/5br8OgDvLbV76NVmbeFY/HAaBuZbq9crNRuf2avUsSEdEgSafTrguCmq1QPz8/h6ZpCAQCWFpaqivzmkWkkVAo5Ay3u40+3ZVMJvH27VvnuWmanMrUBy6rBv7xU6bXYfSVf1mP9zoE6jB/JBJ59CtwIqKnRJIkrK6u3nvdsqyGw+bT09PO4qLj42NcXV1BEATMzs56mt6kqirOzs6gKIoz37PZ6FIzHE0ion7hPzw8BMAtM4mIGnn+/HnDRUSRSKRlffuOp2maSCaTmJiYaHmhL4oizs/P615rNbpERNTvRuwH3DKTiMjd3t5ewwU5d4fR3ZimiY8fP+LFixeoVque6hARPUVtLS4iIhpGiUQCu7u7mJmZcV3Z3sj+/j6y2Sx8Pp+z4xHAHMVENLzaXlxERDRslpaW2r5L+Zvf/AaiKEKWZQiCAJ/PB9M0cXl5iUwmg0+fPnUoWiKi/uW3V5pzcRER0eOZm5uDJEkwDAPVahWWZTnplC4vL3sdHhFRT/iPjo4APJ3FRX+3GsGfjD/3Ooy+8rfBv8G/7+Z7HQbRUPnSLTOJiJ4i//b2Nnw+35NpCP9k/Bmz/xTtdRh9pfTPX7ZLChG1L5fLIZVKuZbd7pAmk8mGxxERPTX+tbU11Go1LC4u4vvvv+91PEREA6NUKkHXdbx69epemWVZSCaTDevaQ+9Mh0REw8RfqVQwNTWFaJR3CYmIWimXy0gkEvD5fKhWqxgfH3fteKbT6R5ER0TU3/xTU1MAgPHx8d5GQkQ0AGRZRjKZxNnZGURRhK7rvQ6JiGhgjLQ+hIiIbJFIBHNzc/D5fJienobP5+t1SEREA8O/uroKy7JQLBbx+vXrXsdDRNTXNE1DuVyGZVl48+YNqtVqW0nliYiGmX9lZaXXMRARDYyNjQ3nsSAITyYjCBFRN/iXl5cBAKFQqMehEBENFq+7GZ2cnDh3Rff39+Hz+VwXJBERPXXOHM9GiY6JiOivTk5OnMf7+/s4ODhoeKxpmjBNE5qmOY9DoRAXJBHR0PL3OgAiokFgmiaAmzmeCwsLAG5Givb39xvW2d3dRT6fh67rKBQKTu7OWCzWlZiJiPpN2x3PTCbjXLGvrKwgEAh4Lg+HwygUCl8aMxFR1z2kE7m2toa1tTUcHx97HpYnInrK2up4apoGAE7uukQigWw266lcUZTHipmIqOu+pBN593jTNPHs2bPHDI+IaCC01fFUVdW5gykIAs7OzjyVq6oKURTrOqlurq+vcX197Ty3h7aIiPrF7U5ksy0zbzNNE6qqwjAMAEChUMDu7m5H4yQi6kcjBwcHD+rg1Wo1T+WapkEQhHtD8m5SqRTGxsacr8nJybbjIiLqpEqlgpWVFayuriIej3vqQMbjcVxeXsKyLOeLiGgY+V+9eoXNzU1cXFwgFothdna24cGhUMgZTjcMw5lg36pc0zRomgZd16EoCiRJcn3/ZDKJt2/fOs9N02Tnk4j6SjqdbnvLzHA4DDt1HQAwfzIRDauRb775BkdHRxBFEZZlYWdnB5VKxfVgURQB3AydK4oCWZYB3DSqtVrNtTwUCkGSJAQCAWeYqZHR0VE8e/as7ouIqJ88ZMtMn8+Hk5MTlEolVCoVpNPpLkRKRNR//Nlsti6HpyAIOD4+xtTUlGuFeDwO4K+dUAB1K9Xdyu3n1Wr1seImIuqJh2yZGY/H6zbpKJfLSKVSnQ6ViKjv+O8mjs/lcpifn+9ROERE/e0hW2bm83nMzc05z8vlckdiIyLqd/dWtd9uVImIqF6pVAIAzM7Oek6rZBgGXr58CVmWYVkWqtUqd4sjoqE00voQIiLa3t5GMBiEJEmQJAkTExPY3Nz0VLdYLOLw8BCXl5eYm5trmRWEiOipGrH3D/bagBIRDZvt7W3UajUYhoEffvgBP/zwAy4vLzE2NoadnZ2W9e3heHshUquFlkRET5XfTm1ULpfx7t27HodDRNR/arWa6zSktbU1fPz4sWX9i4sLJJNJADfzPWdmZh49RiKiQeA/OjoCcDMURERE9zXbAMPL5hgbGxvY39/H6ekpJEnivu1ENLRGkskkTk5O6lZcEhHRXzXL1eklj+fOzg6Wl5eRTqedTqc9xanZznGZTAaqqiKXy7nOC52fn8f8/DwikQjnjRLRQPALgoCjoyPouo7Xr1/3Oh4ior6TTqfr8hXbLMtCsVhs2XaOj49jZ2cHCwsLzu5wkUgE6XQauVzOdZqTvQucvTtSIpFANputOyaZTDbcCY6IqB/519bWAAD7+/s9DoWIqD+FQiFEo1HXsrudQTenp6dYXFzE1tYWtra2ANx0Wufm5hpuuamqqjOMLwgCzs7O7h2j6zpUVUWhUEAsFmuYU/T6+hrX19fO82Z3WYmIOsnJ4+lluIiIaBjJstww76aXBPKLi4tYXl6GKIo4OTnBixcvnDbXS9vbaBjd3ikuGAxCluWGneBUKoUPHz60/D5ERJ3mPzg4wOnpKSYmJnodCxFRX2qW7N1LInhd1/Hy5UsAgCRJ2Nvbg2VZqFQquLy8dK0TCoWc4XbDMLCwsFBXrqoqarWap6H2ZDKJt2/fOs9N08Tk5GTLekREj83/3XffOVfjRET0+DY2NiBJktNJtac4ffz4EZFIxLWOKIrQNA2qqkLTNMiyDAAIh8PI5/MQRRGKojhD7Xa5m9HRUYyOjj7yT0VE1D5/Op3udQxERE/e7TujlUoFU1NTLbcotofSRVF0Xru9yMm+23m7nIion40ANwuLDg4Oeh0LEdFQaHZ3kojoKRsxTROhUKjhykoiIvqr4+NjvHz5EqVSCcViEScnJ57qVSoVvHnzBsFgEHt7ex2OkoioP41IkoQ3b954WplJRDTsisUiDg8PcXl5ibm5uZaJ2w8ODvDNN99AkiT4fD4YhgFVVbsTLBFRn3G2zCQiotbsi3Q7DZJhGA2Pff78Oebn55HJZDA7O4vt7W0A4E5xRDS0/ABwdXWF8/NzvHjxomWFTCbjDM2vrKzc26fYrVxRFAA3SZSbJTkmIup3FxcXSCaTAIB8Po+ZmZmGx56fn0NVVei6jtnZWeZLJqKhNwIAY2Njnvb5vb2FmyiKSCQSLcvtISVJkhAOh+/VISIaJBsbG1hYWIBlWZAkyXW7S9vY2BiWl5fx6tUrHB8fo1qtolQqYXNzs4sRExH1jxH7gZfFRa22cHMrF0XRSfmhaRoWFxcbvv/19TVM06z7IiLqJzs7O1heXkY6ncbS0hKAm4Tsm5ubTduspaUlbGxsYGxsDN9++223wiUi6isjyWQS6+vrbVdsdYf0brmu67i8vHTy0rlJpVIYGxtzvrizBhH1m/Hxcezs7KBUKjmvRSIRLC0tIZfLtaw/PT3tzPUkIho2I8FgEOFwuOlwkS0UCjkdSrct3BqV67ru7LxhD8e7SSaTuLq6cr4+f/78sJ+KiKhDTk9PMT4+jq2tLec1y7IwNzfnaftMgIuLiGh4jYTDYUxPT3vKRWfvjqGqKhRFqdvCrVaruZbruo5wOIxUKoX5+fmmaURGR0fx7Nmzui8ion5ibzEsy7LTbtqLhrh4iIioOb9hGHjx4gX29/c9VWi1hdvd8kAggIuLi8eKl4iop3Rdx8uXLwHcLJrc29uDZVmoVCq4vLzscXRERP3Nbz+oVqu9jIOIaCBsbGxAkiRnWH1tbQ0A8PHjR0QikV6GRkTU90YKhQLW19c9pVMiIiI4nc5SqYSDgwMANx3Sqakp1+MrlUqXIiMi6m9+OxednRaEiIgaK5fLSCQS8Pl8qFarGB8fx6tXr5rWicfj2NnZ4bx1Ihp6I7dz0RERUXOyLCOZTEIURWSzWUSj0ZZ1YrEYzs7OnPzETCBPNFg0TUMsFoPP56vLzqMoCmZmZpBIJBqOHDfaOCeRSDTN9PNU+e2t32wzMzNYWVnhlTkRkYtIJIK5uTmcn59jenoa5XK5ZZ27WwWXy2VPKeyIqD+EQiHEYjEEAgFEIhFn0bQkSTAMo+EFaC6XQywWcy1TFAW1Wg3ZbLZjcfcj/8rKSt0LhmEglUohlUr1KCQiov6laRrK5TIsy8KbN29QrVbx4sWLpnXy+Xxd7s5isdjpMImoA2KxGDRNQyKRcFJKNnN+fu7aKVVVFbIsY21tbfg6nncTGdv7CRMR0X0bGxvOY0EQ6u5kNmIYBl6+fAlZlmFZFttYogGWz+cxPT19byTjLl3XMT8/37AsGo0ikUhAVdW6FJVP3cjdFxYWFjz14omIhtHtFepLS0uedisqFos4PDzE5eUl5ubmmEWEaIAFAgHIstwyfZqiKLg7qmwLBoMAbu6gDtsdzxGgPiWIvU86ERHdF4/HYZpmW3XsuyL2zkaGYTx6XETUPdFoFMFgEJlMpuExFxcXCAQC915XFAWGYUBRFOf5MPGvrq56TglCRDTs7BXqCwsLAG4WD7RaKHRxcQF7IWc+n8fMzEzH4ySizspms5ifn3e9q6mqKsLhsGu9u4uRdnd3kcvlPGXIeApG2kkJQkQ07GKxGNLpNCRJgiRJnobJNjY2sLCwADtvMle0Ew2euyMVgiBAlmXs7e3dO7ZQKECSpHuv12q1e/NCY7EY8vn84wbbx/w+n89zShAiomH30BXqy8vLCIfDTFVHNIA0TYMsy878TrvzGI1GcX5+7uk9VFVFIpGAIAjOYqJarYbz83OoqopMJoNoNOo6PP+U+NtJCUJENOweskK9WCxiaWkJExMTAG7uhjTaXpOI+k8oFEKhUHAtuzvqkcvlsLq6eu84URTvdVIDgQCy2exQLTAaWVtbQyQSQTqd7nUsRER97yEr1HO5HMrlMr7//nucnp4O1T8ZomFzfn6OUCjU6zD6lh8At8wkIvLoISvURVF0soUEAoGhytlHNEx0XefiwRbu5fEkIqLG7BXqhUIB6+vrnu54lstlVCoVmKaJSqWCYrHoPL67bTERDS5BEBCPx3sdRl/z2/novKQEISIadhsbG9jf38fp6SkkSfI0YrS1tYVCoQDLspzX7OflcplbFBPR0PBHIhGn8fPS8cxkMgiFQtB1HSsrK/dWX7mVt6pDRDQo1tfX8enTJywvL3uuc3cl/G3NVsU/pL0lIupnI4eHhzg6OnLNQ3WXpmkAbuYriaKIRCLRsrxVHSKiQTI2NoadnR1ntzcvGnU6m5U9pL0lIup3fvuBl8mwqqo6V9SCIODs7Kxl+czMTNM6t11fX+P6+tp5fnV1BQBtbU/3Pz//jP/+v//l+fhh8D8//9z2Fn93/fzzz/ivn/7PI0U0+H7mOe2Ids6rfdzt4etuuJ0BxJ6f2Ymh8oe0t42wbX18bFc74zHaVnq4brSrTsdzb28Pr1+/9lyx1YR6t/JWdVKpFD58+HDv9cnJSc9xAcD5f/zvto4fBvaK2i/xn//r5BEieTp4Tjuj3fP6008/PcrvwquTkxPUajVsbW0BAN6/f9/x7/mQ9vY2tq2dwTagM7r590zuOtmu+hcXF505nq06nqFQyBneMQzD2au4WXmrOrclk0m8ffvWef7LL7/AMAxMTEw4qUsGhWmamJycxOfPn7lTySPhOe2MQT2vlmXhp59+wtdff93V7ytJkrPFXSf/QT6kvW3kqbStg/pZ7Xc8r49vUM9pN9pVfy6Xg2VZyOVyLQ8WRRGapkFVVWf7KAAIh8PI5/Ou5YFAwLWOm9HRUYyOjta9NuiT5Z89ezZQH7pBwHPaGYN4XntxZySfz3cl9/FD2ttGnlrbOoif1UHA8/r4BvGcdrpd9Vn/fyD/+PiYieQfkWmaGBsbw9XV1cB96PoVz2ln8Lx+mUqlwu0vu4Sf1c7geX18PKeNOQnk2ekkImpfszuNRERUjzsXdcjo6Ch+//vf3xveoofjOe0Mntf2VSoVvHnzBsFg0FMqOnoc/Kx2Bs/r4+M5bcwZaiciouYODg6wtbUFwzCwuLiIT58+oVgsNs3TSUREf8U7nkREHjx//hy7u7vIZDI4OztDKBQC0Dw5PBER1WPHk4jIg/Pzc6ysrEDXdQAYqDRERET9gkPtRERtOj4+hqZpCIfDUFUV796963VIREQDYejueOq6jkgkgkgkcu/18fFxKIrS1vvlcjkoioJcLodYLNZ2PJlMpu06/SaTyTQ9D43KH/q7aPZesVjMuSPlJpFI3MtZ+9ificegaRrm5+frPh92R0fTtLqft1arOc/D4bBzfC6XQyQScXa18fJZ7cdz0Y+WlpawsbGBsbExfPvtt70Opy+wbX1cbFcfH9vVPmENoXw+b0WjUevi4sJ5rVAoWKFQqK33KRQKVj6fd57Lstx2LKIotl2nn4iiWHceLcuyJEnyXN7u76LZOZdlua7MTTabdX3vx/pMPCY7JtvFxUVdfHd/3nw+b8mybMXj8brXLKu9z2o/not+pmlar0PoG2xbHwfb1c5hu9p7Q3fH05ZIJJz8e7VaDcFgsK5cVVXMzMygVquhVqshHA7f2w9ZFEVks1nEYjEoioJ4PN60rqZpUBQFqqoik8k4V1iKojjvnUgkoCiKc0Wm6zrm5+ehKAoURXG+Vy6Xg6qqnT1JLWiaBsMwIAhC3evb29ueym2tfhe3NTrnXqiqimg0CkEQnK0GHxpHN0iSBFVVnc+Gpmn3zuVd8Xjc2c3mtnbPm5dzkclknM+iruv3Pqu374DcPfYp4eKiemxbvwzb1c5iu9p7Q9vxFAQBhmGgVqvVrVC1iaIISZKcX3w2m3XdYq5QKCCRSMAwDOd2fKO6uq5jd3cXtVoN0WgUoVAIgiBAkiQEAgGnQRQEAZeXl3V/EPZ7qqoKSZKwsrKCbDbb2ZPUJa1+F3e5nXM3d/+ZFQoFKIoCQRCQSqW+OI5usIewdF1v2Tja7PNztyHyet6A1ucik8kgFApBkiREo1HEYrF7n9V8Pt/wWHq62Lb2B7arjbFd7a2h7XgCQCwWc/1DsSWTSaRSqYYfTlVVnbJoNIpwOOx8KN3qCoLgXJUmEom697KvFBcXFxEKhSDLsvOhDAaDTsPs9Y+kG0KhEILB4L0/RPuqsFX5bc1+F5lMBrFYDLFYrOk5v+v2laGmaYjFYpAkCbIsQ9O0ew1oqzh6IRqNIpvNQlXVthrsfD5fN5+o0Xm7fW7vanUubp8/wzAA1H9WWx1LTxfb1odju9p5bFd7y9/rALrNvkoGbm65Z7NZiKLo/MEoigJJkgAAgUAAwWCwaYOkKIrzgQgEAs6xbnVVVXVet6+MwuGwc7UYj8edRtMwDKysrMAwDOi67jSe9pW+PZRUq9VcP5DdUigUkMlknJ/TjttLudffxe3hC1VVXc+5rusoFArO97HvgNhDJHeHOARBwNraGra3t2EYhufPRC/EYrF7QzK3f15RFJ2fIRAIQBRFCIKAZDJZV8ftvN0dGmrnd2IP8+i6ju3t7brPpv1euq67HktPD9vWx8N2tfPYrvYO0ym18CV/HL3+wyIi6ldsW4mG09Dd8fTKnj/xkOGXL6lLRPSUsW0lGm6840lEREREXTHUi4uIiIiIqHvY8SQiIiKirmDHk4iIiIi6gh1PIiIiIuoKdjyJiIiIqCvY8SQiIiKirmDHk4iIiIi6gh1PIiIiIuoKdjyJiIiIqCvY8SQiIiKirmDHk4iIiIi6gh1PIiIiIuoKdjyJiIiIqCvY8SQiIiKirmDHk4iIiIi64v8Bm2zBwYnMuQkAAAAASUVORK5CYII=' width=670.0/>\n",
                            "            </div>\n",
                            "        "
                        ],
                        "text/plain": [
                            "Canvas(toolbar=Toolbar(toolitems=[('Home', 'Reset original view', 'home', 'home'), ('Back', 'Back to previous …"
                        ]
                    },
                    "metadata": {},
                    "output_type": "display_data"
                }
            ],
            "source": [
                "fig, axs = plt.subplots(1, 2, figsize=[6.7, 1.5])\n",
                "plt.tight_layout()\n",
                "fig.subplots_adjust(wspace=0.3)\n",
                "\n",
                "axs[0].bar(1, np.median(bag_RMSEs), color=color_palette[0], edgecolor='black', linewidth=0.5)\n",
                "axs[0].bar(2, 0.077, color=shift_lightness(color_palette[0], 0.2), edgecolor='black', linewidth=0.5)\n",
                "axs[0].bar(3, 0.074, color=shift_lightness(color_palette[0], 0.2), edgecolor='black', linewidth=0.5)\n",
                "axs[0].set_ylabel(\"RMS Absolute\\nTrajectory Error [m]\")\n",
                "axs[0].set_xticks([1,2,3])\n",
                "axs[0].set_xticklabels([\"My System\", \"CCM-SLAM\", \"VINS-Mono\"])\n",
                "\n",
                "axs[1].bar(1, np.median(bags_bandwidth), color=color_palette[0], edgecolor='black', linewidth=0.5)\n",
                "axs[1].bar(2, 0.99, color=shift_lightness(color_palette[0], 0.2), edgecolor='black', linewidth=0.5)\n",
                "axs[1].bar(3, 0, color=shift_lightness(color_palette[0], 0.2), edgecolor='black', linewidth=0.5)\n",
                "axs[1].set_ylabel(\"Average Data Transfer\\nper Agent [MB/s]\")\n",
                "axs[1].set_xticks([1,2,3])\n",
                "axs[1].set_xticklabels([\"My System\", \"CCM-SLAM\", \"VINS-Mono\"])\n",
                "# put label saying vinsmono is N/A\n",
                "axs[1].text(3, 0.1, \"N/A\", ha='center', fontsize='small')\n",
                "\n",
                "\n",
                "plt.show()"
            ]
        },
        {
            "cell_type": "code",
            "execution_count": 39,
            "metadata": {},
            "outputs": [
                {
                    "data": {
                        "text/plain": [
                            "1.308318081521739"
                        ]
                    },
                    "execution_count": 39,
                    "metadata": {},
                    "output_type": "execute_result"
                }
            ],
            "source": [
                "np.median(bags_bandwidth)"
            ]
        },
        {
            "cell_type": "code",
            "execution_count": null,
            "metadata": {},
            "outputs": [],
            "source": []
        },
        {
            "cell_type": "code",
            "execution_count": null,
            "metadata": {},
            "outputs": [],
            "source": []
        }
    ],
    "metadata": {
        "kernelspec": {
            "display_name": "Python 3 (ipykernel)",
            "language": "python",
            "name": "python3"
        },
        "language_info": {
            "codemirror_mode": {
                "name": "ipython",
                "version": 3
            },
            "file_extension": ".py",
            "mimetype": "text/x-python",
            "name": "python",
            "nbconvert_exporter": "python",
            "pygments_lexer": "ipython3",
            "version": "3.10.12"
        }
    },
    "nbformat": 4,
    "nbformat_minor": 4
}
